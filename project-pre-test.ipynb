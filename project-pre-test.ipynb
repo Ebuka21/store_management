{
 "cells": [
  {
   "cell_type": "markdown",
   "metadata": {},
   "source": [
    "### Project managment function tests"
   ]
  },
  {
   "cell_type": "code",
   "execution_count": 1,
   "metadata": {},
   "outputs": [],
   "source": [
    "#importing the random module\n",
    "import random"
   ]
  },
  {
   "cell_type": "code",
   "execution_count": 77,
   "metadata": {},
   "outputs": [],
   "source": [
    "#Variable to display all the items in stock and their price\n",
    "display = \"\"\"\n",
    "Below are the prices of our items in stock\n",
    "\n",
    "Egg     --> 90\n",
    "Bread   --> 500\n",
    "Indomie --> 100\n",
    "Butter  --> 800\n",
    "Milk    --> 1400\n",
    "Sugar   --> 200\n",
    "Chair   --> 15000\n",
    "Table   --> 20000\n",
    "fan     --> 17000\n",
    "\"\"\""
   ]
  },
  {
   "cell_type": "code",
   "execution_count": 3,
   "metadata": {},
   "outputs": [],
   "source": [
    "#dictionary contains the price for each of the items in stock\n",
    "stock_dict = {\n",
    "    'Egg': 90,\n",
    "    'Bread':500,\n",
    "    'Indomie':100,\n",
    "    'Butter':800,\n",
    "    'Milk':1400,\n",
    "    'Sugar':200,\n",
    "    'Chair': 15000\n",
    "}"
   ]
  },
  {
   "cell_type": "code",
   "execution_count": 4,
   "metadata": {},
   "outputs": [],
   "source": [
    "#this fuction is providing a random number betweem 0 and 10 and this number would be the number of items purchased that day\n",
    "def rd_purchase():\n",
    "    return random.randrange(10)"
   ]
  },
  {
   "cell_type": "code",
   "execution_count": 5,
   "metadata": {},
   "outputs": [],
   "source": [
    "\"\"\"\n",
    "this function produces a list of items that have been purchased randomly\n",
    "\"\"\"\n",
    "def item_purchase():\n",
    "    #using the rd_purchase function to determine to number of items that will be purchased\n",
    "    num = rd_purchase()\n",
    "    print(\"the amount of purchase today is \" + str(num))\n",
    "    \n",
    "    #this will convert the keys of the dictionary to a list so that random selection can be done on it\n",
    "    items = list(random.choices(list(stock_dict.keys()),k=num))\n",
    "    return items"
   ]
  },
  {
   "cell_type": "code",
   "execution_count": 6,
   "metadata": {},
   "outputs": [
    {
     "data": {
      "text/plain": [
       "[2, 2, 4, 5, 4]"
      ]
     },
     "execution_count": 6,
     "metadata": {},
     "output_type": "execute_result"
    }
   ],
   "source": [
    "x = [1,2,4,5,4]\n",
    "x[0]+=x[0]\n",
    "x"
   ]
  },
  {
   "cell_type": "code",
   "execution_count": 7,
   "metadata": {},
   "outputs": [],
   "source": [
    "#this function determines the exact number of items purchases per product and the amount each of them will cost\n",
    "\n",
    "def final_price(item):\n",
    "    purchase_dict = {}\n",
    "    count_dict = {}\n",
    "    for x in item:\n",
    "        if x not in purchase_dict:\n",
    "            purchase_dict[x] = stock_dict[x]\n",
    "            count_dict[x] = 1\n",
    "        elif x in purchase_dict:\n",
    "            purchase_dict[x]+=purchase_dict[x]\n",
    "            count_dict[x]+=count_dict[x]\n",
    "    print(purchase_dict)\n",
    "    print(count_dict)"
   ]
  },
  {
   "cell_type": "code",
   "execution_count": null,
   "metadata": {},
   "outputs": [],
   "source": []
  },
  {
   "cell_type": "code",
   "execution_count": 8,
   "metadata": {},
   "outputs": [
    {
     "name": "stdout",
     "output_type": "stream",
     "text": [
      "\n",
      "Below are the prices of our items in stock\n",
      "\n",
      "Egg    --> 90\n",
      "Bread   --> 500\n",
      "Indomie --> 100\n",
      "Butter  --> 800\n",
      "Milk    --> 1400\n",
      "Sugar   --> 200\n",
      "\n",
      "the amount of purchase today is 7\n",
      "{'Egg': 90, 'Milk': 1400, 'Bread': 1000, 'Butter': 800, 'Indomie': 100, 'Chair': 15000}\n",
      "{'Egg': 1, 'Milk': 1, 'Bread': 2, 'Butter': 1, 'Indomie': 1, 'Chair': 1}\n"
     ]
    }
   ],
   "source": [
    "#main part combining all the functions defined above\n",
    "\n",
    "start = input(\"Are you ready to start: \")\n",
    "\n",
    "if start == 'yes':\n",
    "    print(display)\n",
    "    \n",
    "    purchase = item_purchase()\n",
    "    final_price(purchase)"
   ]
  },
  {
   "cell_type": "code",
   "execution_count": null,
   "metadata": {},
   "outputs": [],
   "source": []
  },
  {
   "cell_type": "code",
   "execution_count": null,
   "metadata": {},
   "outputs": [],
   "source": []
  },
  {
   "cell_type": "code",
   "execution_count": 60,
   "metadata": {},
   "outputs": [],
   "source": [
    "#this dictionary contains the limit for each of the items which can be purchased at a time\n",
    "purchase_limit = {\n",
    "    'Egg': 1000,\n",
    "    'Bread':500,\n",
    "    'Indomie':1000,\n",
    "    'Butter':1000,\n",
    "    'Milk':1000,\n",
    "    'Sugar':1000,\n",
    "    'Chair':50,\n",
    "    'Table':50,\n",
    "    'fan':100\n",
    "}"
   ]
  },
  {
   "cell_type": "code",
   "execution_count": 59,
   "metadata": {},
   "outputs": [],
   "source": [
    "\"\"\"\n",
    "this is an adjusted function of the item_purchase function and combines final_purchase function as well\n",
    "\"\"\"\n",
    "def item_limit_purchase():\n",
    "    purchase_num = {}\n",
    "    purchase_price = {}\n",
    "    num = random.randrange(len(stock_dict))\n",
    "    items = random.sample(list(stock_dict.keys()),k=num)\n",
    "    for x in items:\n",
    "        purchase_num[x] = random.randrange(purchase_limit[x])\n",
    "        purchase_price[x] = purchase_num[x]*stock_dict[x]\n",
    "    print(items)\n",
    "    print(purchase_num)\n",
    "    print(purchase_price)"
   ]
  },
  {
   "cell_type": "code",
   "execution_count": 11,
   "metadata": {},
   "outputs": [
    {
     "name": "stdout",
     "output_type": "stream",
     "text": [
      "[]\n",
      "{}\n",
      "{}\n"
     ]
    }
   ],
   "source": [
    "item_limit_purchase()"
   ]
  },
  {
   "cell_type": "markdown",
   "metadata": {},
   "source": [
    "### Test 2\n",
    "\n",
    "I will increase the amount of items to purchase putting them into categories and retrieve the price, number of items, item and category"
   ]
  },
  {
   "cell_type": "code",
   "execution_count": 12,
   "metadata": {},
   "outputs": [],
   "source": [
    "full_stock_dict = {\n",
    "    'food':{\n",
    "        'Egg': 90,\n",
    "        'Bread':500,\n",
    "        'Indomie':100,\n",
    "        'Butter':800,\n",
    "        'Milk':1400,\n",
    "        'Sugar':200,\n",
    "    },\n",
    "    'household':{\n",
    "        'Chair': 15000,\n",
    "        'Table': 20000,\n",
    "        'fan': 17000\n",
    "    }\n",
    "}"
   ]
  },
  {
   "cell_type": "code",
   "execution_count": 51,
   "metadata": {},
   "outputs": [
    {
     "data": {
      "text/plain": [
       "90"
      ]
     },
     "execution_count": 51,
     "metadata": {},
     "output_type": "execute_result"
    }
   ],
   "source": [
    "full_stock_dict['food']['Egg']"
   ]
  },
  {
   "cell_type": "code",
   "execution_count": 13,
   "metadata": {},
   "outputs": [
    {
     "data": {
      "text/plain": [
       "2"
      ]
     },
     "execution_count": 13,
     "metadata": {},
     "output_type": "execute_result"
    }
   ],
   "source": [
    "len(full_stock_dict)"
   ]
  },
  {
   "cell_type": "code",
   "execution_count": 14,
   "metadata": {},
   "outputs": [],
   "source": [
    "stock_list = ['Egg','Bread','Indomie','Butter','Milk','Sugar','Chair','Table','fan']"
   ]
  },
  {
   "cell_type": "code",
   "execution_count": 15,
   "metadata": {},
   "outputs": [
    {
     "data": {
      "text/plain": [
       "True"
      ]
     },
     "execution_count": 15,
     "metadata": {},
     "output_type": "execute_result"
    }
   ],
   "source": [
    "'food' in full_stock_dict"
   ]
  },
  {
   "cell_type": "code",
   "execution_count": 28,
   "metadata": {},
   "outputs": [
    {
     "name": "stdout",
     "output_type": "stream",
     "text": [
      "{'Egg': 'food', 'Chair': 'household', 'Milk': 'food', 'Sugar': 'food', 'Table': 'household'}\n"
     ]
    }
   ],
   "source": [
    "test = [\"Egg\",\"Chair\",\"Milk\",\"Milk\",\"Sugar\",\"Table\"]\n",
    "t = {}\n",
    "for x in test:\n",
    "    for y in full_stock_dict:\n",
    "        if x in full_stock_dict[y]:\n",
    "            t[x] = y\n",
    "\n",
    "print(t)"
   ]
  },
  {
   "cell_type": "code",
   "execution_count": 17,
   "metadata": {},
   "outputs": [],
   "source": [
    "u = list(full_stock_dict.values())"
   ]
  },
  {
   "cell_type": "code",
   "execution_count": 18,
   "metadata": {},
   "outputs": [
    {
     "data": {
      "text/plain": [
       "dict_keys(['Chair', 'Table', 'fan'])"
      ]
     },
     "execution_count": 18,
     "metadata": {},
     "output_type": "execute_result"
    }
   ],
   "source": [
    "u[1].keys()"
   ]
  },
  {
   "cell_type": "code",
   "execution_count": 19,
   "metadata": {},
   "outputs": [
    {
     "data": {
      "text/plain": [
       "['Egg', 'Butter', 'Milk', 'Chair']"
      ]
     },
     "execution_count": 19,
     "metadata": {},
     "output_type": "execute_result"
    }
   ],
   "source": [
    "random.sample(stock_list,k=4)"
   ]
  },
  {
   "cell_type": "code",
   "execution_count": 20,
   "metadata": {},
   "outputs": [
    {
     "data": {
      "text/plain": [
       "'\\n{ \\n    name:{\\n        number: amount purchased,\\n        price: total price for that item,\\n        category: category for the item purchased\\n    }\\n}\\n'"
      ]
     },
     "execution_count": 20,
     "metadata": {},
     "output_type": "execute_result"
    }
   ],
   "source": [
    "#structure for a purchase done at a point in time\n",
    "\n",
    "\"\"\"\n",
    "{ \n",
    "    name:{\n",
    "        number: amount purchased,\n",
    "        price: total price for that item,\n",
    "        category: category for the item purchased\n",
    "    }\n",
    "}\n",
    "\"\"\""
   ]
  },
  {
   "cell_type": "code",
   "execution_count": 72,
   "metadata": {},
   "outputs": [],
   "source": [
    "\"\"\"\n",
    "function will make use of new dictionary that is based using category and indicate that as well in the final statement of what was purchased\n",
    "\"\"\"\n",
    "def new_item_purchase():\n",
    "    purchased = {}\n",
    "    \n",
    "    num = random.randrange(10)\n",
    "    items = random.sample(stock_list,k=num)\n",
    "    for x in items:\n",
    "        purchased[x]={}\n",
    "        for y in full_stock_dict:\n",
    "            if x in full_stock_dict[y]:\n",
    "                purchased[x]['category'] = y\n",
    "                purchased[x]['amount'] = random.randrange(purchase_limit[x])\n",
    "                purchased[x]['price'] = purchased[x]['amount']*full_stock_dict[y][x]\n",
    "\n",
    "    return purchased"
   ]
  },
  {
   "cell_type": "code",
   "execution_count": 76,
   "metadata": {},
   "outputs": [
    {
     "name": "stdout",
     "output_type": "stream",
     "text": [
      "<class 'dict'>\n",
      "<class 'dict'>\n"
     ]
    }
   ],
   "source": [
    "d = new_item_purchase()"
   ]
  },
  {
   "cell_type": "code",
   "execution_count": 75,
   "metadata": {},
   "outputs": [
    {
     "data": {
      "text/plain": [
       "dict_keys(['Egg', 'Milk', 'Table', 'fan', 'Bread', 'Butter'])"
      ]
     },
     "execution_count": 75,
     "metadata": {},
     "output_type": "execute_result"
    }
   ],
   "source": [
    "d.keys()"
   ]
  },
  {
   "cell_type": "markdown",
   "metadata": {},
   "source": [
    "#### User interface\n",
    "\n",
    "##### This will obtain interaction from a user"
   ]
  },
  {
   "cell_type": "code",
   "execution_count": 177,
   "metadata": {},
   "outputs": [],
   "source": [
    "#this function will trigger an interaction with the customer to obtain what they want to buy and the amount they want to buy as well.\n",
    "\n",
    "def user_interact(purchased):\n",
    "    item = input(\"What would you like to buy: \")\n",
    "    amount = int(input(\"How many: \"))\n",
    "    #check if the item has been purchased before\n",
    "    if item not in purchased:\n",
    "        purchased[item] = {}\n",
    "        purchased[item]['amount'] = amount\n",
    "    #if it has been purchased already then simply increase the amount purchased by the number customer provides\n",
    "    elif item  in purchased:\n",
    "        purchased[item]['amount'] += amount\n",
    "\n",
    "    return purchased"
   ]
  },
  {
   "cell_type": "code",
   "execution_count": 162,
   "metadata": {},
   "outputs": [],
   "source": [
    "#this function takes what the customer has said they will purchase and extrapolates other fields; total price and category of item\n",
    "\n",
    "def user_purchase(purchased):\n",
    "    for item in purchased:\n",
    "        for category in full_stock_dict:\n",
    "            if item in full_stock_dict[category]:\n",
    "                purchased[item]['category'] = category\n",
    "                purchased[item]['price'] = purchased[item]['amount']*full_stock_dict[category][item]\n",
    "    return purchased"
   ]
  },
  {
   "cell_type": "code",
   "execution_count": 163,
   "metadata": {},
   "outputs": [],
   "source": [
    "def main():\n",
    "\n",
    "    print(display)\n",
    "\n",
    "    print(\"Do you want to purchase anything: \")\n",
    "    ask = input()\n",
    "\n",
    "    if ask == 'yes':\n",
    "        purchased = {}\n",
    "        #loop will enable customer to continuosly state what they want to buy\n",
    "        while ask:\n",
    "            purchase = user_interact(purchased)\n",
    "            store = user_purchase(purchase)\n",
    "            #find out if they want to continue shopping\n",
    "            ask = input(\"Would you like to continue shopping: \")\n",
    "            if ask == 'yes':\n",
    "                continue\n",
    "            #break the loop at this point\n",
    "            else:\n",
    "                ask = False\n",
    "                print(store)\n",
    "    else:\n",
    "        print(\"Thank you for shoping with us\")\n",
    "    "
   ]
  },
  {
   "cell_type": "code",
   "execution_count": 90,
   "metadata": {},
   "outputs": [
    {
     "name": "stdout",
     "output_type": "stream",
     "text": [
      "\n",
      "Below are the prices of our items in stock\n",
      "\n",
      "Egg     --> 90\n",
      "Bread   --> 500\n",
      "Indomie --> 100\n",
      "Butter  --> 800\n",
      "Milk    --> 1400\n",
      "Sugar   --> 200\n",
      "Chair   --> 15000\n",
      "Table   --> 20000\n",
      "fan     --> 17000\n",
      "\n",
      "Do you want to purchase anything: \n",
      "{'Egg': {'amount': 15, 'category': 'food', 'price': 1350}, 'Chair': {'amount': 1, 'category': 'household', 'price': 15000}}\n"
     ]
    }
   ],
   "source": [
    "main()"
   ]
  },
  {
   "cell_type": "code",
   "execution_count": null,
   "metadata": {},
   "outputs": [],
   "source": []
  },
  {
   "cell_type": "markdown",
   "metadata": {},
   "source": [
    "#### Update the stock amount after a purchase is done\n",
    "\n",
    "#### check the stock amount if it is below a certain price in the situation (10)"
   ]
  },
  {
   "cell_type": "code",
   "execution_count": 61,
   "metadata": {},
   "outputs": [],
   "source": [
    "test_purchase = {'Egg': {'amount': 15, 'category': 'food', 'price': 1350}, 'Chair': {'amount': 1, 'category': 'household', 'price': 15000}}\n",
    "\n",
    "full_stock_dict = {\n",
    "    'food':{\n",
    "        'Egg': 90,\n",
    "        'Bread':500,\n",
    "        'Indomie':100,\n",
    "        'Butter':800,\n",
    "        'Milk':1400,\n",
    "        'Sugar':200,\n",
    "    },\n",
    "    'household':{\n",
    "        'Chair': 15000,\n",
    "        'Table': 20000,\n",
    "        'fan': 17000\n",
    "    }\n",
    "}"
   ]
  },
  {
   "cell_type": "code",
   "execution_count": 164,
   "metadata": {},
   "outputs": [],
   "source": [
    "#with every purchase made update the amount of each items in stock\n",
    "\n",
    "def update_stock(stock,purchase):\n",
    "    #using full_stock_dict and dictionary created from purchased items\n",
    "    a = stock\n",
    "    b = purchase\n",
    "    for x in b:\n",
    "        for y in a:\n",
    "            if x in a[y]:\n",
    "                a[y][x] -= b[x]['amount']\n",
    "                #if subtracting the amount creates a negative value then it will be normalised to zero\n",
    "                if a[y][x] <= 0:\n",
    "                    a[y][x] = 0\n",
    "    return a"
   ]
  },
  {
   "cell_type": "code",
   "execution_count": 62,
   "metadata": {},
   "outputs": [
    {
     "name": "stdout",
     "output_type": "stream",
     "text": [
      "{'food': {'Egg': 90, 'Bread': 500, 'Indomie': 100, 'Butter': 800, 'Milk': 1400, 'Sugar': 200}, 'household': {'Chair': 15000, 'Table': 20000, 'fan': 17000}}\n",
      "{'food': {'Egg': 75, 'Bread': 500, 'Indomie': 100, 'Butter': 800, 'Milk': 1400, 'Sugar': 200}, 'household': {'Chair': 14999, 'Table': 20000, 'fan': 17000}}\n"
     ]
    }
   ],
   "source": [
    "print(full_stock_dict)\n",
    "test = update_stock(full_stock_dict,test_purchase)\n",
    "print(test)"
   ]
  },
  {
   "cell_type": "code",
   "execution_count": 11,
   "metadata": {},
   "outputs": [
    {
     "data": {
      "text/plain": [
       "90"
      ]
     },
     "execution_count": 11,
     "metadata": {},
     "output_type": "execute_result"
    }
   ],
   "source": [
    "full_stock_dict['food']['Egg']"
   ]
  },
  {
   "cell_type": "code",
   "execution_count": 33,
   "metadata": {},
   "outputs": [
    {
     "data": {
      "text/plain": [
       "15"
      ]
     },
     "execution_count": 33,
     "metadata": {},
     "output_type": "execute_result"
    }
   ],
   "source": [
    "test_purchase['Egg']['amount']"
   ]
  },
  {
   "cell_type": "code",
   "execution_count": 173,
   "metadata": {},
   "outputs": [],
   "source": [
    "#check the stock inventory and alert if it is less than a certain amount\n",
    "def check_store(stock):\n",
    "    for x in stock:\n",
    "        for y in stock[x]:\n",
    "            if x == 'food' and stock[x][y] <= 10:\n",
    "                print(\"URGENT: \" + y + \" is low in stock\")\n",
    "            elif x == 'household' and stock[x][y] < 5:\n",
    "                print(\"URGENT: \" + y + \" is low in stock\")"
   ]
  },
  {
   "cell_type": "code",
   "execution_count": 70,
   "metadata": {},
   "outputs": [
    {
     "name": "stdout",
     "output_type": "stream",
     "text": [
      "{'food': {'Egg': 0, 'Bread': 500, 'Indomie': 100, 'Butter': 800, 'Milk': 1400, 'Sugar': 200}, 'household': {'Chair': 14992, 'Table': 20000, 'fan': 17000}}\n",
      "URGENT: Egg is low in stock\n"
     ]
    }
   ],
   "source": [
    "print(full_stock_dict)\n",
    "test = update_stock(full_stock_dict,test_purchase)\n",
    "check_store(test)"
   ]
  },
  {
   "cell_type": "code",
   "execution_count": 166,
   "metadata": {},
   "outputs": [],
   "source": [
    "#during purchase of items, continuously check if there is enough in store if not let customer know just amount is available\n",
    "def pre_check_store(stock, purchase):\n",
    "    n_check =[]\n",
    "    c = 0\n",
    "    for x in purchase:\n",
    "        for y in stock:\n",
    "            if x in list(stock[y].keys()) and  purchase[x]['amount'] > stock[y][x]:\n",
    "                #print(\"sorry but we are out of \" + x)\n",
    "                print(\"sorry we only have \" + str(stock[y][x]) + \" \" + x + \" left in stock\")\n",
    "                n_check.append(x)\n",
    "                c = 1\n",
    "    for check in n_check:\n",
    "        del purchase[check]\n",
    "    return [purchase,c]\n",
    "                "
   ]
  },
  {
   "cell_type": "code",
   "execution_count": 208,
   "metadata": {},
   "outputs": [
    {
     "name": "stdout",
     "output_type": "stream",
     "text": [
      "sorry but we are out of Chair\n",
      "we only have 50 Chair left in stock\n"
     ]
    },
    {
     "data": {
      "text/plain": [
       "[{'Egg': {'amount': 30, 'category': 'food', 'price': 90},\n",
       "  'Butter': {'amount': 4, 'category': 'food', 'price': 14000}},\n",
       " 1]"
      ]
     },
     "execution_count": 208,
     "metadata": {},
     "output_type": "execute_result"
    }
   ],
   "source": [
    "pre_check_test = {'Egg':{'amount': 30, 'category': 'food', 'price': 90},'Butter':{'amount': 4, 'category': 'food', 'price': 14000},'Chair':{'amount': 60, 'category': 'food', 'price': 14000} }\n",
    "pre_check_stock = {'food': {'Egg': 1000, 'Bread': 100, 'Indomie': 1000, 'Butter': 100, 'Milk': 500, 'Sugar': 1000}, 'household': {'Chair': 50, 'Table': 25, 'fan': 70}}\n",
    "pre_check_store(pre_check_stock, pre_check_test)"
   ]
  },
  {
   "cell_type": "code",
   "execution_count": 159,
   "metadata": {},
   "outputs": [
    {
     "data": {
      "text/plain": [
       "'ebuka'"
      ]
     },
     "execution_count": 159,
     "metadata": {},
     "output_type": "execute_result"
    }
   ],
   "source": [
    "x = \"Ebuka\"\n",
    "x.lower()"
   ]
  },
  {
   "cell_type": "code",
   "execution_count": null,
   "metadata": {},
   "outputs": [],
   "source": []
  },
  {
   "cell_type": "markdown",
   "metadata": {},
   "source": [
    "##### Combining all functions for user interaction and checks"
   ]
  },
  {
   "cell_type": "code",
   "execution_count": 194,
   "metadata": {},
   "outputs": [],
   "source": [
    "# initialize needed information\n",
    "\n",
    "display = \"\"\"\n",
    "Below are the prices of our items in stock\n",
    "\n",
    "Egg     --> 90\n",
    "Bread   --> 500\n",
    "Indomie --> 100\n",
    "Butter  --> 800\n",
    "Milk    --> 1400\n",
    "Sugar   --> 200\n",
    "Chair   --> 15000\n",
    "Table   --> 20000\n",
    "fan     --> 17000\n",
    "\"\"\"\n",
    "# this is the\n",
    "stock_count = {\n",
    "    'food':{\n",
    "        'Egg': 100,\n",
    "        'Bread':100,\n",
    "        'Indomie':100,\n",
    "        'Butter':100,\n",
    "        'Milk':100,\n",
    "        'Sugar':100,\n",
    "    },\n",
    "    'household':{\n",
    "        'Chair': 10,\n",
    "        'Table': 5,\n",
    "        'fan': 7\n",
    "    }\n",
    "}\n",
    "\n",
    "# this is the price of items \n",
    "full_stock_dict = {\n",
    "    'food':{\n",
    "        'Egg': 90,\n",
    "        'Bread':500,\n",
    "        'Indomie':100,\n",
    "        'Butter':800,\n",
    "        'Milk':1400,\n",
    "        'Sugar':200,\n",
    "    },\n",
    "    'household':{\n",
    "        'Chair': 15000,\n",
    "        'Table': 20000,\n",
    "        'fan': 17000\n",
    "    }\n",
    "}\n"
   ]
  },
  {
   "cell_type": "code",
   "execution_count": 205,
   "metadata": {},
   "outputs": [
    {
     "name": "stdout",
     "output_type": "stream",
     "text": [
      "Hello Welcome esteemed customer to our store \n",
      "\n",
      "\n",
      "Below are the prices of our items in stock\n",
      "\n",
      "Egg     --> 90\n",
      "Bread   --> 500\n",
      "Indomie --> 100\n",
      "Butter  --> 800\n",
      "Milk    --> 1400\n",
      "Sugar   --> 200\n",
      "Chair   --> 15000\n",
      "Table   --> 20000\n",
      "fan     --> 17000\n",
      "\n",
      "\n",
      "\n",
      "{'Milk': {'amount': 10, 'category': 'food', 'price': 14000}}\n",
      "URGENT: Chair is low in stock\n",
      "This is the new stock count: \n",
      "{'food': {'Egg': 95, 'Bread': 89, 'Indomie': 95, 'Butter': 98, 'Milk': 37, 'Sugar': 86}, 'household': {'Chair': 4, 'Table': 5, 'fan': 7}}\n"
     ]
    }
   ],
   "source": [
    "print(\"Hello Welcome esteemed customer to our store \\n\")\n",
    "\n",
    "print(display)\n",
    "\n",
    "print(\"\\n\")\n",
    "\n",
    "ask = input(\"Do you want to purchase anything: \")\n",
    "\n",
    "if ask == 'yes':\n",
    "    purchased = {}\n",
    "    #loop will enable customer to continuosly state what they want to buy\n",
    "    while ask:\n",
    "\n",
    "        purchase = user_interact(purchased)\n",
    "\n",
    "        cont = pre_check_store(stock_count,purchase)\n",
    "        \n",
    "        if cont[1] == 0:\n",
    "            buy = user_purchase(purchase)\n",
    "            #find out if they want to continue shopping\n",
    "            ask = input(\"Would you like to continue shopping: \")\n",
    "            if ask == 'yes':\n",
    "                continue\n",
    "            else:\n",
    "                #break the loop at this point\n",
    "                ask = False\n",
    "                print(buy)\n",
    "                stock_count = update_stock(stock_count, purchased)\n",
    "                check_store(stock_count)\n",
    "                print(\"This is the new stock count: \")\n",
    "                print(stock_count)\n",
    "        else:\n",
    "            purchased = cont[0]\n",
    "            print(\"returning\")\n",
    "            continue\n",
    "            \n",
    "else:\n",
    "    print(\"Thank you for visiting with us\")"
   ]
  },
  {
   "cell_type": "code",
   "execution_count": null,
   "metadata": {},
   "outputs": [],
   "source": []
  },
  {
   "cell_type": "code",
   "execution_count": null,
   "metadata": {},
   "outputs": [],
   "source": []
  },
  {
   "cell_type": "markdown",
   "metadata": {},
   "source": [
    "#### Review of code sequence\n",
    "\n",
    "##### maybe have pre_check_store happen right after customer picks and item and the amount to buy....writing reviewed functions below"
   ]
  },
  {
   "cell_type": "code",
   "execution_count": 198,
   "metadata": {},
   "outputs": [],
   "source": [
    "def pre_check_s(stock, item, count):\n",
    "    #n_check =[]\n",
    "    c = 0\n",
    "    for y in stock:\n",
    "        if item in list(stock[y].keys()) and  count > stock[y][item]:\n",
    "            print(\"sorry we only have \" + str(stock[y][item]) + \" \" + item + \" left in stock\")\n",
    "            #n_check.append(x)\n",
    "            c = 1\n",
    "    return c"
   ]
  },
  {
   "cell_type": "code",
   "execution_count": 192,
   "metadata": {},
   "outputs": [],
   "source": [
    "def user_int(purchased):\n",
    "    item = input(\"What would you like to buy: \")\n",
    "    amount = int(input(\"How many: \"))\n",
    "    check = pre_check_s(stock_count,item,amount)\n",
    "\n",
    "    if check == 0:\n",
    "        #check if the item has been purchased before\n",
    "        if item not in purchased:\n",
    "            purchased[item] = {}\n",
    "            purchased[item]['amount'] = amount\n",
    "        #if it has been purchased already then simply increase the amount purchased by the number customer provides\n",
    "        elif item  in purchased:\n",
    "            purchased[item]['amount'] += amount\n",
    "    \n",
    "    else:\n",
    "        print(\"retuning\")\n",
    "        print(purchased)\n",
    "        user_int(purchased)\n",
    "\n",
    "    return purchased"
   ]
  },
  {
   "cell_type": "code",
   "execution_count": 203,
   "metadata": {},
   "outputs": [
    {
     "name": "stdout",
     "output_type": "stream",
     "text": [
      "Hello Welcome esteemed customer to our store \n",
      "\n",
      "\n",
      "Below are the prices of our items in stock\n",
      "\n",
      "Egg     --> 90\n",
      "Bread   --> 500\n",
      "Indomie --> 100\n",
      "Butter  --> 800\n",
      "Milk    --> 1400\n",
      "Sugar   --> 200\n",
      "Chair   --> 15000\n",
      "Table   --> 20000\n",
      "fan     --> 17000\n",
      "\n",
      "\n",
      "\n",
      "{'Bread': {'amount': 5, 'category': 'food', 'price': 2500}, 'Chair': {'amount': 6, 'category': 'household', 'price': 90000}, 'Butter': {'amount': 2, 'category': 'food', 'price': 1600}}\n",
      "URGENT: Chair is low in stock\n",
      "This is the new stock count: \n",
      "{'food': {'Egg': 95, 'Bread': 93, 'Indomie': 95, 'Butter': 98, 'Milk': 47, 'Sugar': 86}, 'household': {'Chair': 4, 'Table': 5, 'fan': 7}}\n"
     ]
    }
   ],
   "source": [
    "print(\"Hello Welcome esteemed customer to our store \\n\")\n",
    "\n",
    "print(display)\n",
    "\n",
    "print(\"\\n\")\n",
    "\n",
    "ask = input(\"Do you want to purchase anything: \")\n",
    "\n",
    "if ask == 'yes':\n",
    "    purchased = {}\n",
    "    #loop will enable customer to continuosly state what they want to buy\n",
    "    while ask:\n",
    "\n",
    "        purchase = user_int(purchased)\n",
    "\n",
    "        #cont = pre_check_store(stock_count,purchase)\n",
    "        \n",
    "        \n",
    "        buy = user_purchase(purchase)\n",
    "        #find out if they want to continue shopping\n",
    "        ask = input(\"Would you like to continue shopping: \")\n",
    "        if ask == 'yes':\n",
    "            continue\n",
    "        else:\n",
    "            #break the loop at this point\n",
    "            ask = False\n",
    "            print(buy)\n",
    "            stock_count = update_stock(stock_count, purchased)\n",
    "            check_store(stock_count)\n",
    "            print(\"This is the new stock count: \")\n",
    "            print(stock_count)\n",
    "        \n",
    "            \n",
    "else:\n",
    "    print(\"Thank you for visiting with us\")"
   ]
  },
  {
   "cell_type": "code",
   "execution_count": null,
   "metadata": {},
   "outputs": [],
   "source": []
  }
 ],
 "metadata": {
  "interpreter": {
   "hash": "a9393991dda1a1f11792fb6bdaec078fe166c24148971fdfbf033a213528df00"
  },
  "kernelspec": {
   "display_name": "Python 3 (ipykernel)",
   "language": "python",
   "name": "python3"
  },
  "language_info": {
   "codemirror_mode": {
    "name": "ipython",
    "version": 3
   },
   "file_extension": ".py",
   "mimetype": "text/x-python",
   "name": "python",
   "nbconvert_exporter": "python",
   "pygments_lexer": "ipython3",
   "version": "3.9.7"
  }
 },
 "nbformat": 4,
 "nbformat_minor": 2
}
