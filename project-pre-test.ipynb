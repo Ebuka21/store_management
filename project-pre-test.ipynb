{
 "cells": [
  {
   "cell_type": "markdown",
   "metadata": {},
   "source": [
    "### Project managment function tests"
   ]
  },
  {
   "cell_type": "code",
   "execution_count": 1,
   "metadata": {},
   "outputs": [],
   "source": [
    "#importing the random module\n",
    "import random"
   ]
  },
  {
   "cell_type": "code",
   "execution_count": 2,
   "metadata": {},
   "outputs": [],
   "source": [
    "#Variable to display all the items in stock and their price\n",
    "stock = \"\"\"\n",
    "Below are the prices of our items in stock\n",
    "\n",
    "Egg    --> 90\n",
    "Bread   --> 500\n",
    "Indomie --> 100\n",
    "Butter  --> 800\n",
    "Milk    --> 1400\n",
    "Sugar   --> 200\n",
    "\"\"\""
   ]
  },
  {
   "cell_type": "code",
   "execution_count": 3,
   "metadata": {},
   "outputs": [],
   "source": [
    "#dictionary contains the price for each of the items in stock\n",
    "stock_dict = {\n",
    "    'Egg': 90,\n",
    "    'Bread':500,\n",
    "    'Indomie':100,\n",
    "    'Butter':800,\n",
    "    'Milk':1400,\n",
    "    'Sugar':200,\n",
    "    'Chair': 15000\n",
    "}"
   ]
  },
  {
   "cell_type": "code",
   "execution_count": 4,
   "metadata": {},
   "outputs": [],
   "source": [
    "#this fuction is providing a random number betweem 0 and 10 and this number would be the number of items purchased that day\n",
    "def rd_purchase():\n",
    "    return random.randrange(10)"
   ]
  },
  {
   "cell_type": "code",
   "execution_count": 5,
   "metadata": {},
   "outputs": [],
   "source": [
    "\"\"\"\n",
    "this function produces a list of items that have been purchased randomly\n",
    "\"\"\"\n",
    "def item_purchase():\n",
    "    #using the rd_purchase function to determine to number of items that will be purchased\n",
    "    num = rd_purchase()\n",
    "    print(\"the amount of purchase today is \" + str(num))\n",
    "    \n",
    "    #this will convert the keys of the dictionary to a list so that random selection can be done on it\n",
    "    items = list(random.choices(list(stock_dict.keys()),k=num))\n",
    "    return items"
   ]
  },
  {
   "cell_type": "code",
   "execution_count": 6,
   "metadata": {},
   "outputs": [
    {
     "data": {
      "text/plain": [
       "[2, 2, 4, 5, 4]"
      ]
     },
     "execution_count": 6,
     "metadata": {},
     "output_type": "execute_result"
    }
   ],
   "source": [
    "x = [1,2,4,5,4]\n",
    "x[0]+=x[0]\n",
    "x"
   ]
  },
  {
   "cell_type": "code",
   "execution_count": 7,
   "metadata": {},
   "outputs": [],
   "source": [
    "#this function determines the exact number of items purchases per product and the amount each of them will cost\n",
    "\n",
    "def final_price(item):\n",
    "    purchase_dict = {}\n",
    "    count_dict = {}\n",
    "    for x in item:\n",
    "        if x not in purchase_dict:\n",
    "            purchase_dict[x] = stock_dict[x]\n",
    "            count_dict[x] = 1\n",
    "        elif x in purchase_dict:\n",
    "            purchase_dict[x]+=purchase_dict[x]\n",
    "            count_dict[x]+=count_dict[x]\n",
    "    print(purchase_dict)\n",
    "    print(count_dict)"
   ]
  },
  {
   "cell_type": "code",
   "execution_count": null,
   "metadata": {},
   "outputs": [],
   "source": []
  },
  {
   "cell_type": "code",
   "execution_count": 8,
   "metadata": {},
   "outputs": [
    {
     "name": "stdout",
     "output_type": "stream",
     "text": [
      "\n",
      "Below are the prices of our items in stock\n",
      "\n",
      "Egg    --> 90\n",
      "Bread   --> 500\n",
      "Indomie --> 100\n",
      "Butter  --> 800\n",
      "Milk    --> 1400\n",
      "Sugar   --> 200\n",
      "\n",
      "the amount of purchase today is 7\n",
      "{'Egg': 90, 'Milk': 1400, 'Bread': 1000, 'Butter': 800, 'Indomie': 100, 'Chair': 15000}\n",
      "{'Egg': 1, 'Milk': 1, 'Bread': 2, 'Butter': 1, 'Indomie': 1, 'Chair': 1}\n"
     ]
    }
   ],
   "source": [
    "#main part combining all the functions defined above\n",
    "\n",
    "start = input(\"Are you ready to start: \")\n",
    "\n",
    "if start == 'yes':\n",
    "    print(stock)\n",
    "    \n",
    "    purchase = item_purchase()\n",
    "    final_price(purchase)"
   ]
  },
  {
   "cell_type": "code",
   "execution_count": null,
   "metadata": {},
   "outputs": [],
   "source": []
  },
  {
   "cell_type": "code",
   "execution_count": null,
   "metadata": {},
   "outputs": [],
   "source": []
  },
  {
   "cell_type": "code",
   "execution_count": 60,
   "metadata": {},
   "outputs": [],
   "source": [
    "#this dictionary contains the limit for each of the items which can be purchased at a time\n",
    "purchase_limit = {\n",
    "    'Egg': 1000,\n",
    "    'Bread':500,\n",
    "    'Indomie':1000,\n",
    "    'Butter':1000,\n",
    "    'Milk':1000,\n",
    "    'Sugar':1000,\n",
    "    'Chair':50,\n",
    "    'Table':50,\n",
    "    'fan':100\n",
    "}"
   ]
  },
  {
   "cell_type": "code",
   "execution_count": 59,
   "metadata": {},
   "outputs": [],
   "source": [
    "\"\"\"\n",
    "this is an adjusted function of the item_purchase function and combines final_purchase function as well\n",
    "\"\"\"\n",
    "def item_limit_purchase():\n",
    "    purchase_num = {}\n",
    "    purchase_price = {}\n",
    "    num = random.randrange(len(stock_dict))\n",
    "    items = random.sample(list(stock_dict.keys()),k=num)\n",
    "    for x in items:\n",
    "        purchase_num[x] = random.randrange(purchase_limit[x])\n",
    "        purchase_price[x] = purchase_num[x]*stock_dict[x]\n",
    "    print(items)\n",
    "    print(purchase_num)\n",
    "    print(purchase_price)"
   ]
  },
  {
   "cell_type": "code",
   "execution_count": 11,
   "metadata": {},
   "outputs": [
    {
     "name": "stdout",
     "output_type": "stream",
     "text": [
      "[]\n",
      "{}\n",
      "{}\n"
     ]
    }
   ],
   "source": [
    "item_limit_purchase()"
   ]
  },
  {
   "cell_type": "markdown",
   "metadata": {},
   "source": [
    "### Test 2\n",
    "\n",
    "I will increase the amount of items to purchase putting them into categories and retrieve the price, number of items, item and category"
   ]
  },
  {
   "cell_type": "code",
   "execution_count": 12,
   "metadata": {},
   "outputs": [],
   "source": [
    "full_stock_dict = {\n",
    "    'food':{\n",
    "        'Egg': 90,\n",
    "        'Bread':500,\n",
    "        'Indomie':100,\n",
    "        'Butter':800,\n",
    "        'Milk':1400,\n",
    "        'Sugar':200,\n",
    "    },\n",
    "    'household':{\n",
    "        'Chair': 15000,\n",
    "        'Table': 20000,\n",
    "        'fan': 17000\n",
    "    }\n",
    "}"
   ]
  },
  {
   "cell_type": "code",
   "execution_count": 51,
   "metadata": {},
   "outputs": [
    {
     "data": {
      "text/plain": [
       "90"
      ]
     },
     "execution_count": 51,
     "metadata": {},
     "output_type": "execute_result"
    }
   ],
   "source": [
    "full_stock_dict['food']['Egg']"
   ]
  },
  {
   "cell_type": "code",
   "execution_count": 13,
   "metadata": {},
   "outputs": [
    {
     "data": {
      "text/plain": [
       "2"
      ]
     },
     "execution_count": 13,
     "metadata": {},
     "output_type": "execute_result"
    }
   ],
   "source": [
    "len(full_stock_dict)"
   ]
  },
  {
   "cell_type": "code",
   "execution_count": 14,
   "metadata": {},
   "outputs": [],
   "source": [
    "stock_list = ['Egg','Bread','Indomie','Butter','Milk','Sugar','Chair','Table','fan']"
   ]
  },
  {
   "cell_type": "code",
   "execution_count": 15,
   "metadata": {},
   "outputs": [
    {
     "data": {
      "text/plain": [
       "True"
      ]
     },
     "execution_count": 15,
     "metadata": {},
     "output_type": "execute_result"
    }
   ],
   "source": [
    "'food' in full_stock_dict"
   ]
  },
  {
   "cell_type": "code",
   "execution_count": 28,
   "metadata": {},
   "outputs": [
    {
     "name": "stdout",
     "output_type": "stream",
     "text": [
      "{'Egg': 'food', 'Chair': 'household', 'Milk': 'food', 'Sugar': 'food', 'Table': 'household'}\n"
     ]
    }
   ],
   "source": [
    "test = [\"Egg\",\"Chair\",\"Milk\",\"Milk\",\"Sugar\",\"Table\"]\n",
    "t = {}\n",
    "for x in test:\n",
    "    for y in full_stock_dict:\n",
    "        if x in full_stock_dict[y]:\n",
    "            t[x] = y\n",
    "\n",
    "print(t)"
   ]
  },
  {
   "cell_type": "code",
   "execution_count": 17,
   "metadata": {},
   "outputs": [],
   "source": [
    "u = list(full_stock_dict.values())"
   ]
  },
  {
   "cell_type": "code",
   "execution_count": 18,
   "metadata": {},
   "outputs": [
    {
     "data": {
      "text/plain": [
       "dict_keys(['Chair', 'Table', 'fan'])"
      ]
     },
     "execution_count": 18,
     "metadata": {},
     "output_type": "execute_result"
    }
   ],
   "source": [
    "u[1].keys()"
   ]
  },
  {
   "cell_type": "code",
   "execution_count": 19,
   "metadata": {},
   "outputs": [
    {
     "data": {
      "text/plain": [
       "['Egg', 'Butter', 'Milk', 'Chair']"
      ]
     },
     "execution_count": 19,
     "metadata": {},
     "output_type": "execute_result"
    }
   ],
   "source": [
    "random.sample(stock_list,k=4)"
   ]
  },
  {
   "cell_type": "code",
   "execution_count": 20,
   "metadata": {},
   "outputs": [
    {
     "data": {
      "text/plain": [
       "'\\n{ \\n    name:{\\n        number: amount purchased,\\n        price: total price for that item,\\n        category: category for the item purchased\\n    }\\n}\\n'"
      ]
     },
     "execution_count": 20,
     "metadata": {},
     "output_type": "execute_result"
    }
   ],
   "source": [
    "#structure for a purchase done at a point in time\n",
    "\n",
    "\"\"\"\n",
    "{ \n",
    "    name:{\n",
    "        number: amount purchased,\n",
    "        price: total price for that item,\n",
    "        category: category for the item purchased\n",
    "    }\n",
    "}\n",
    "\"\"\""
   ]
  },
  {
   "cell_type": "code",
   "execution_count": 72,
   "metadata": {},
   "outputs": [],
   "source": [
    "def new_item_purchase():\n",
    "    purchased = {}\n",
    "    \n",
    "    num = random.randrange(10)\n",
    "    items = random.sample(stock_list,k=num)\n",
    "    for x in items:\n",
    "        purchased[x]={}\n",
    "        for y in full_stock_dict:\n",
    "            if x in full_stock_dict[y]:\n",
    "                purchased[x]['category'] = y\n",
    "                purchased[x]['amount'] = random.randrange(purchase_limit[x])\n",
    "                purchased[x]['price'] = purchased[x]['amount']*full_stock_dict[y][x]\n",
    "\n",
    "    return purchased"
   ]
  },
  {
   "cell_type": "code",
   "execution_count": 76,
   "metadata": {},
   "outputs": [
    {
     "name": "stdout",
     "output_type": "stream",
     "text": [
      "<class 'dict'>\n",
      "<class 'dict'>\n"
     ]
    }
   ],
   "source": [
    "d = new_item_purchase()"
   ]
  },
  {
   "cell_type": "code",
   "execution_count": 75,
   "metadata": {},
   "outputs": [
    {
     "data": {
      "text/plain": [
       "dict_keys(['Egg', 'Milk', 'Table', 'fan', 'Bread', 'Butter'])"
      ]
     },
     "execution_count": 75,
     "metadata": {},
     "output_type": "execute_result"
    }
   ],
   "source": [
    "d.keys()"
   ]
  },
  {
   "cell_type": "code",
   "execution_count": null,
   "metadata": {},
   "outputs": [],
   "source": []
  }
 ],
 "metadata": {
  "interpreter": {
   "hash": "a9393991dda1a1f11792fb6bdaec078fe166c24148971fdfbf033a213528df00"
  },
  "kernelspec": {
   "display_name": "Python 3 (ipykernel)",
   "language": "python",
   "name": "python3"
  },
  "language_info": {
   "codemirror_mode": {
    "name": "ipython",
    "version": 3
   },
   "file_extension": ".py",
   "mimetype": "text/x-python",
   "name": "python",
   "nbconvert_exporter": "python",
   "pygments_lexer": "ipython3",
   "version": "3.9.7"
  }
 },
 "nbformat": 4,
 "nbformat_minor": 2
}
