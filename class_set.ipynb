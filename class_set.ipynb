{
 "cells": [
  {
   "cell_type": "markdown",
   "metadata": {},
   "source": [
    "### Class set\n",
    "\n",
    "##### This notebook will create classes combining the functions used in project-pre-test"
   ]
  },
  {
   "cell_type": "code",
   "execution_count": null,
   "metadata": {},
   "outputs": [],
   "source": [
    "\"\"\"\n",
    "Auto class: Fully known as automatic class. Will make use of the random functions \n",
    "for purchasing items\n",
    "\"\"\"\n",
    "\n",
    "class auto_class:\n",
    "\n",
    "    def __init__():\n",
    "        pass"
   ]
  },
  {
   "cell_type": "code",
   "execution_count": 116,
   "metadata": {},
   "outputs": [],
   "source": [
    "\"\"\"\n",
    "User class: Interaction with customer concerning what they want to purchase and the amount\n",
    "\"\"\"\n",
    "\n",
    "class user_class:\n",
    "\n",
    "    def __init__(self, purchased={}):\n",
    "        \n",
    "    #def stock_price_number(self):\n",
    "        self.stock_count = {\n",
    "                'Egg': 100,\n",
    "                'Bread':100,\n",
    "                'Indomie':100,\n",
    "                'Butter':100,\n",
    "                'Milk':100,\n",
    "                'Sugar':100,\n",
    "                'Chair': 10,\n",
    "                'Table': 5,\n",
    "                'fan': 7\n",
    "            }\n",
    "\n",
    "        self.stock_price = {\n",
    "            'food':{\n",
    "                'Egg': 90,\n",
    "                'Bread':500,\n",
    "                'Indomie':100,\n",
    "                'Butter':800,\n",
    "                'Milk':1400,\n",
    "                'Sugar':200,\n",
    "            },\n",
    "            'household':{\n",
    "                'Chair': 15000,\n",
    "                'Table': 20000,\n",
    "                'fan': 17000\n",
    "            }\n",
    "        }\n",
    "\n",
    "        self.purchased = purchased\n",
    "        self.food_list = [ 'Egg','Bread','Indomie','Butter','Milk','Sugar']\n",
    "        self.household_list = ['Chair','Table','fan']\n",
    "\n",
    "\n",
    "\n",
    "    def pre_check(self,item, count):\n",
    "        c = 0\n",
    "        if item in self.stock_count and count > self.stock_count[item]:\n",
    "            print(\"sorry we only have \" + str(stock[y][item]) + \" \" + item + \" left in stock\")\n",
    "            c = 1\n",
    "        elif item not in self.stock_count:\n",
    "            print(\"Sorry but we do not have this in stock\")\n",
    "            c = 1\n",
    "        return c\n",
    "\n",
    "    def user_int(self):\n",
    "        #purchased = self.purchased\n",
    "        item = input(\"What would you like to buy: \")\n",
    "        amount = int(input(\"How many: \"))\n",
    "        check = self.pre_check(item,amount)\n",
    "\n",
    "        if check == 0:\n",
    "            #check if the item has been purchased before\n",
    "            if item not in self.purchased:\n",
    "                self.purchased[item] = {}\n",
    "                self.purchased[item]['amount'] = amount\n",
    "            #if it has been purchased already then simply increase the amount purchased by the number customer provides\n",
    "            elif item  in self.purchased:\n",
    "                self.purchased[item]['amount'] += amount\n",
    "        \n",
    "        else:\n",
    "            print(\"returning\")\n",
    "            print(self.purchased)\n",
    "            user_class.user_int(self)\n",
    "\n",
    "        return self.purchased\n",
    "\n",
    "    def user_purchase(self,purchased):\n",
    "        for item in purchased:\n",
    "            for category in self.stock_price:\n",
    "                if item in self.stock_price[category]:\n",
    "                    purchased[item]['category'] = category\n",
    "                    purchased[item]['price'] = purchased[item]['amount']*self.stock_price[category][item]\n",
    "        return purchased\n",
    "\n",
    "    def update_stock(self,stock,purchase):\n",
    "        #using full_stock_dict and dictionary created from purchased items\n",
    "        a = stock\n",
    "        b = purchase\n",
    "        for x in b:\n",
    "            if x in a:\n",
    "                a[x] -= b[x]['amount']\n",
    "                #if subtracting the amount creates a negative value then it will be normalised to zero\n",
    "                if a[x] <= 0:\n",
    "                    a[x] = 0\n",
    "        return a\n",
    "\n",
    "    def check_store(self,stock):\n",
    "        for x in stock:\n",
    "            if x in self.food_list and stock[x] <= 10:\n",
    "                print(\"URGENT: \" + x + \" is low in stock\")\n",
    "            elif x in self.household_list and stock[x] < 5:\n",
    "                print(\"URGENT: \" + x + \" is low in stock\")\n",
    "\n",
    "\n",
    "    def main(self):\n",
    "        print(\"Hello Welcome esteemed customer to our store \\n\")\n",
    "\n",
    "        print(display)\n",
    "\n",
    "        print(\"\\n\")\n",
    "\n",
    "        ask = input(\"Do you want to purchase anything: \")\n",
    "\n",
    "        if ask == 'yes':\n",
    "            #purchased = {}\n",
    "            #loop will enable customer to continuosly state what they want to buy\n",
    "            while ask:\n",
    "\n",
    "                purchase = self.user_int()\n",
    "\n",
    "                #cont = pre_check_store(stock_count,purchase)\n",
    "                \n",
    "                \n",
    "                buy = self.user_purchase(purchase)\n",
    "                #find out if they want to continue shopping\n",
    "                ask = input(\"Would you like to continue shopping: \")\n",
    "                if ask == 'yes':\n",
    "                    continue\n",
    "                else:\n",
    "                    #break the loop at this point\n",
    "                    ask = False\n",
    "                    print(buy)\n",
    "                    stock_count = self.update_stock(self.stock_count, self.purchased)\n",
    "                    self.check_store(self.stock_count)\n",
    "                    print(\"This is the new stock count: \")\n",
    "                    print(self.stock_count)\n",
    "                \n",
    "                     \n",
    "        elif ask == 'no':\n",
    "            print(\"Thank you for visiting with us\")\n",
    "\n",
    "        else:\n",
    "            print('Sorry that is a wrong input, please choose yes or no')\n",
    "            self.main()"
   ]
  },
  {
   "cell_type": "code",
   "execution_count": 117,
   "metadata": {},
   "outputs": [],
   "source": [
    "x = user_class()"
   ]
  },
  {
   "cell_type": "code",
   "execution_count": 118,
   "metadata": {},
   "outputs": [
    {
     "data": {
      "text/plain": [
       "{'food': {'Egg': 90,\n",
       "  'Bread': 500,\n",
       "  'Indomie': 100,\n",
       "  'Butter': 800,\n",
       "  'Milk': 1400,\n",
       "  'Sugar': 200},\n",
       " 'household': {'Chair': 15000, 'Table': 20000, 'fan': 17000}}"
      ]
     },
     "execution_count": 118,
     "metadata": {},
     "output_type": "execute_result"
    }
   ],
   "source": [
    "x.stock_price"
   ]
  },
  {
   "cell_type": "code",
   "execution_count": 119,
   "metadata": {},
   "outputs": [
    {
     "data": {
      "text/plain": [
       "{}"
      ]
     },
     "execution_count": 119,
     "metadata": {},
     "output_type": "execute_result"
    }
   ],
   "source": [
    "x.purchased"
   ]
  },
  {
   "cell_type": "code",
   "execution_count": 120,
   "metadata": {},
   "outputs": [
    {
     "name": "stdout",
     "output_type": "stream",
     "text": [
      "Hello Welcome esteemed customer to our store \n",
      "\n",
      "<function display at 0x0000025CE770C790>\n",
      "\n",
      "\n",
      "{'Chair': {'amount': 10, 'category': 'household', 'price': 150000}}\n"
     ]
    },
    {
     "ename": "NameError",
     "evalue": "name 'y' is not defined",
     "output_type": "error",
     "traceback": [
      "\u001b[1;31m---------------------------------------------------------------------------\u001b[0m",
      "\u001b[1;31mNameError\u001b[0m                                 Traceback (most recent call last)",
      "\u001b[1;32mC:\\Users\\EBUKA~1.IFE\\AppData\\Local\\Temp/ipykernel_15476/4240423537.py\u001b[0m in \u001b[0;36m<module>\u001b[1;34m\u001b[0m\n\u001b[1;32m----> 1\u001b[1;33m \u001b[0mx\u001b[0m\u001b[1;33m.\u001b[0m\u001b[0mmain\u001b[0m\u001b[1;33m(\u001b[0m\u001b[1;33m)\u001b[0m\u001b[1;33m\u001b[0m\u001b[1;33m\u001b[0m\u001b[0m\n\u001b[0m",
      "\u001b[1;32mC:\\Users\\EBUKA~1.IFE\\AppData\\Local\\Temp/ipykernel_15476/959199703.py\u001b[0m in \u001b[0;36mmain\u001b[1;34m(self)\u001b[0m\n\u001b[0;32m    131\u001b[0m                     \u001b[0mprint\u001b[0m\u001b[1;33m(\u001b[0m\u001b[0mbuy\u001b[0m\u001b[1;33m)\u001b[0m\u001b[1;33m\u001b[0m\u001b[1;33m\u001b[0m\u001b[0m\n\u001b[0;32m    132\u001b[0m                     \u001b[0mstock_count\u001b[0m \u001b[1;33m=\u001b[0m \u001b[0mself\u001b[0m\u001b[1;33m.\u001b[0m\u001b[0mupdate_stock\u001b[0m\u001b[1;33m(\u001b[0m\u001b[0mself\u001b[0m\u001b[1;33m.\u001b[0m\u001b[0mstock_count\u001b[0m\u001b[1;33m,\u001b[0m \u001b[0mself\u001b[0m\u001b[1;33m.\u001b[0m\u001b[0mpurchased\u001b[0m\u001b[1;33m)\u001b[0m\u001b[1;33m\u001b[0m\u001b[1;33m\u001b[0m\u001b[0m\n\u001b[1;32m--> 133\u001b[1;33m                     \u001b[0mself\u001b[0m\u001b[1;33m.\u001b[0m\u001b[0mcheck_store\u001b[0m\u001b[1;33m(\u001b[0m\u001b[0mself\u001b[0m\u001b[1;33m.\u001b[0m\u001b[0mstock_count\u001b[0m\u001b[1;33m)\u001b[0m\u001b[1;33m\u001b[0m\u001b[1;33m\u001b[0m\u001b[0m\n\u001b[0m\u001b[0;32m    134\u001b[0m                     \u001b[0mprint\u001b[0m\u001b[1;33m(\u001b[0m\u001b[1;34m\"This is the new stock count: \"\u001b[0m\u001b[1;33m)\u001b[0m\u001b[1;33m\u001b[0m\u001b[1;33m\u001b[0m\u001b[0m\n\u001b[0;32m    135\u001b[0m                     \u001b[0mprint\u001b[0m\u001b[1;33m(\u001b[0m\u001b[0mself\u001b[0m\u001b[1;33m.\u001b[0m\u001b[0mstock_count\u001b[0m\u001b[1;33m)\u001b[0m\u001b[1;33m\u001b[0m\u001b[1;33m\u001b[0m\u001b[0m\n",
      "\u001b[1;32mC:\\Users\\EBUKA~1.IFE\\AppData\\Local\\Temp/ipykernel_15476/959199703.py\u001b[0m in \u001b[0;36mcheck_store\u001b[1;34m(self, stock)\u001b[0m\n\u001b[0;32m     96\u001b[0m     \u001b[1;32mdef\u001b[0m \u001b[0mcheck_store\u001b[0m\u001b[1;33m(\u001b[0m\u001b[0mself\u001b[0m\u001b[1;33m,\u001b[0m\u001b[0mstock\u001b[0m\u001b[1;33m)\u001b[0m\u001b[1;33m:\u001b[0m\u001b[1;33m\u001b[0m\u001b[1;33m\u001b[0m\u001b[0m\n\u001b[0;32m     97\u001b[0m         \u001b[1;32mfor\u001b[0m \u001b[0mx\u001b[0m \u001b[1;32min\u001b[0m \u001b[0mstock\u001b[0m\u001b[1;33m:\u001b[0m\u001b[1;33m\u001b[0m\u001b[1;33m\u001b[0m\u001b[0m\n\u001b[1;32m---> 98\u001b[1;33m             \u001b[1;32mif\u001b[0m \u001b[0mx\u001b[0m \u001b[1;32min\u001b[0m \u001b[0mself\u001b[0m\u001b[1;33m.\u001b[0m\u001b[0mfood_list\u001b[0m \u001b[1;32mand\u001b[0m \u001b[0mstock\u001b[0m\u001b[1;33m[\u001b[0m\u001b[0mx\u001b[0m\u001b[1;33m]\u001b[0m\u001b[1;33m[\u001b[0m\u001b[0my\u001b[0m\u001b[1;33m]\u001b[0m \u001b[1;33m<=\u001b[0m \u001b[1;36m10\u001b[0m\u001b[1;33m:\u001b[0m\u001b[1;33m\u001b[0m\u001b[1;33m\u001b[0m\u001b[0m\n\u001b[0m\u001b[0;32m     99\u001b[0m                 \u001b[0mprint\u001b[0m\u001b[1;33m(\u001b[0m\u001b[1;34m\"URGENT: \"\u001b[0m \u001b[1;33m+\u001b[0m \u001b[0my\u001b[0m \u001b[1;33m+\u001b[0m \u001b[1;34m\" is low in stock\"\u001b[0m\u001b[1;33m)\u001b[0m\u001b[1;33m\u001b[0m\u001b[1;33m\u001b[0m\u001b[0m\n\u001b[0;32m    100\u001b[0m             \u001b[1;32melif\u001b[0m \u001b[0mx\u001b[0m \u001b[1;32min\u001b[0m \u001b[0mself\u001b[0m\u001b[1;33m.\u001b[0m\u001b[0mhousehold_list\u001b[0m \u001b[1;32mand\u001b[0m \u001b[0mstock\u001b[0m\u001b[1;33m[\u001b[0m\u001b[0mx\u001b[0m\u001b[1;33m]\u001b[0m\u001b[1;33m[\u001b[0m\u001b[0my\u001b[0m\u001b[1;33m]\u001b[0m \u001b[1;33m<\u001b[0m \u001b[1;36m5\u001b[0m\u001b[1;33m:\u001b[0m\u001b[1;33m\u001b[0m\u001b[1;33m\u001b[0m\u001b[0m\n",
      "\u001b[1;31mNameError\u001b[0m: name 'y' is not defined"
     ]
    }
   ],
   "source": [
    "x.main()"
   ]
  },
  {
   "cell_type": "code",
   "execution_count": 60,
   "metadata": {},
   "outputs": [
    {
     "data": {
      "text/plain": [
       "False"
      ]
     },
     "execution_count": 60,
     "metadata": {},
     "output_type": "execute_result"
    }
   ],
   "source": [
    "'Chckem' in list(x.stock_count.values())[0]"
   ]
  },
  {
   "cell_type": "code",
   "execution_count": 61,
   "metadata": {},
   "outputs": [
    {
     "name": "stdout",
     "output_type": "stream",
     "text": [
      "Sorry but we do not have this in stock\n",
      "Sorry but we do not have this in stock\n",
      "returning\n",
      "{}\n"
     ]
    },
    {
     "data": {
      "text/plain": [
       "{'Egg': {'amount': 10}}"
      ]
     },
     "execution_count": 61,
     "metadata": {},
     "output_type": "execute_result"
    }
   ],
   "source": [
    "x.user_int()"
   ]
  },
  {
   "cell_type": "code",
   "execution_count": 104,
   "metadata": {},
   "outputs": [
    {
     "data": {
      "text/plain": [
       "True"
      ]
     },
     "execution_count": 104,
     "metadata": {},
     "output_type": "execute_result"
    }
   ],
   "source": [
    "'Egg' in x.stock_count"
   ]
  },
  {
   "cell_type": "code",
   "execution_count": null,
   "metadata": {},
   "outputs": [],
   "source": []
  }
 ],
 "metadata": {
  "interpreter": {
   "hash": "a9393991dda1a1f11792fb6bdaec078fe166c24148971fdfbf033a213528df00"
  },
  "kernelspec": {
   "display_name": "Python 3.9.7 ('base')",
   "language": "python",
   "name": "python3"
  },
  "language_info": {
   "codemirror_mode": {
    "name": "ipython",
    "version": 3
   },
   "file_extension": ".py",
   "mimetype": "text/x-python",
   "name": "python",
   "nbconvert_exporter": "python",
   "pygments_lexer": "ipython3",
   "version": "3.9.7"
  },
  "orig_nbformat": 4
 },
 "nbformat": 4,
 "nbformat_minor": 2
}
