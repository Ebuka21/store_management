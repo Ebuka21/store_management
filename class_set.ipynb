{
 "cells": [
  {
   "cell_type": "markdown",
   "metadata": {},
   "source": [
    "### Class set\n",
    "\n",
    "##### This notebook will create classes combining the functions used in project-pre-test"
   ]
  },
  {
   "cell_type": "code",
   "execution_count": null,
   "metadata": {},
   "outputs": [],
   "source": [
    "\"\"\"\n",
    "Auto class: Fully known as automatic class. Will make use of the random functions \n",
    "for purchasing items\n",
    "\"\"\"\n",
    "\n",
    "class auto_class:\n",
    "\n",
    "    def __init__():\n",
    "        pass"
   ]
  }
 ],
 "metadata": {
  "interpreter": {
   "hash": "a9393991dda1a1f11792fb6bdaec078fe166c24148971fdfbf033a213528df00"
  },
  "kernelspec": {
   "display_name": "Python 3.9.7 ('base')",
   "language": "python",
   "name": "python3"
  },
  "language_info": {
   "name": "python",
   "version": "3.9.7"
  },
  "orig_nbformat": 4
 },
 "nbformat": 4,
 "nbformat_minor": 2
}
