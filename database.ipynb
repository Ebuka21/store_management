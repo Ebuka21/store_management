{
 "cells": [
  {
   "cell_type": "markdown",
   "metadata": {},
   "source": [
    "## Database notebook\n",
    "\n",
    "This will explore and help understand how to connect to postgres database, retrieve information and also update the information in it. The package used in psycopg2 and the notes here will help in developing the python scripts that will be run in this project"
   ]
  },
  {
   "cell_type": "markdown",
   "metadata": {},
   "source": [
    "Start by installing the python package for connecting to PostgreSQL database which is psycopg2"
   ]
  },
  {
   "cell_type": "code",
   "execution_count": null,
   "metadata": {},
   "outputs": [],
   "source": [
    "#Connect to postgres\n",
    "import psycopg2\n",
    "\n",
    "conn = psycopg2.connect(\n",
    "    host=\"localhost\",\n",
    "    database=\"postgres\",\n",
    "    user=\"postgres\",\n",
    "    password=\"@Ebuka79\")\n",
    "\n",
    "cur = conn.cursor()\n",
    "\n",
    "cur.execute('SELECT version()')\n",
    "\n",
    "print(cur.fetchone())\n",
    "\n",
    "#cur.close()"
   ]
  },
  {
   "cell_type": "code",
   "execution_count": null,
   "metadata": {},
   "outputs": [],
   "source": [
    "#create a table in the database\n",
    "\n",
    "create_command = \"\"\"\n",
    "CREATE TABLE Test(\n",
    "    firstname VARCHAR(15),\n",
    "    lastname VARCHAR(15),\n",
    "    age INT,\n",
    "    location VARCHAR(2),\n",
    "    occupation VARCHAR(10)\n",
    ")\n",
    "\"\"\"\n",
    "\n",
    "cur.execute(create_command)\n",
    "\n",
    "cur.close()\n",
    "\n",
    "conn.commit()\n",
    "\n",
    "print(\"Table creation successful\")\n",
    "\n",
    "conn.close()\n",
    "\n"
   ]
  },
  {
   "cell_type": "code",
   "execution_count": null,
   "metadata": {},
   "outputs": [],
   "source": [
    "#insert values into test table in database\n",
    "\n",
    "insert_com = \"\"\"\n",
    "INSERT INTO \n",
    "    test (firstname,lastname,age,location,occupation)\n",
    "VALUES\n",
    "    ('Ebuka','Ifechukwu',24,'LG','Engineer'),\n",
    "    ('Chidera','Ifechukwu',23,'UK','Media'),\n",
    "    ('Ugonna','Ifechukwu',19,'EN','Lawyer'),\n",
    "    ('Uchenna','Ifechukwu',19,'LG','Designer')\n",
    "\"\"\"\n",
    "\n",
    "cur.execute(insert_com)\n",
    "\n",
    "cur.close()\n",
    "\n",
    "conn.commit()\n",
    "\n",
    "print(\"Values added successfully\")\n",
    "\n",
    "conn.close()"
   ]
  },
  {
   "cell_type": "markdown",
   "metadata": {},
   "source": [
    "Note: if a transaction or command was not successful, it cannot be redone until the connection to the database has been closed and opened again. Best to do an exception to avoid this"
   ]
  },
  {
   "cell_type": "code",
   "execution_count": null,
   "metadata": {},
   "outputs": [],
   "source": [
    "#obtain data from database\n",
    "import pandas as pd\n",
    "\n",
    "retrieve_com = \"\"\"\n",
    "SELECT * \n",
    "FROM test\n",
    "\"\"\"\n",
    "\n",
    "cur.execute(retrieve_com)\n",
    "\n",
    "data = cur.fetchall()\n",
    "\n",
    "print(data)\n",
    "\n",
    "cur.close()\n",
    "\n",
    "conn.close()"
   ]
  },
  {
   "cell_type": "code",
   "execution_count": null,
   "metadata": {},
   "outputs": [],
   "source": [
    "{\n",
    "    \"tags\": [\n",
    "        \"hide-input\",\n",
    "    ]\n",
    "}\n",
    "\n",
    "data"
   ]
  },
  {
   "cell_type": "code",
   "execution_count": null,
   "metadata": {},
   "outputs": [],
   "source": [
    "#convert the list of tuples to dataframe in pandas for more analysis\n",
    "\n",
    "pd_data = pd.DataFrame(data, columns=['firstname','lastname','age','location','occupation'])\n",
    "\n",
    "pd_data"
   ]
  },
  {
   "cell_type": "code",
   "execution_count": null,
   "metadata": {},
   "outputs": [],
   "source": [
    "#connecting to a different database to obtain data and put in pandas dataframe for analysis\n",
    "\n",
    "import psycopg2\n",
    "import pandas as pd\n",
    "\n",
    "conn = psycopg2.connect(\n",
    "    host=\"localhost\",\n",
    "    database=\"postgres\",\n",
    "    user=\"postgres\",\n",
    "    password=\"@Ebuka79\")\n",
    "\n",
    "cur = conn.cursor()\n",
    "\n",
    "cur.execute('SELECT version()')\n",
    "\n",
    "retrieve_com = \"\"\"\n",
    "SELECT * \n",
    "FROM product\n",
    "\"\"\"\n",
    "\n",
    "cur.execute(retrieve_com)\n",
    "\n",
    "data = cur.fetchall()\n",
    "\n",
    "pd_data = pd.DataFrame(data, columns=['productkey','productname','price','quantity','categorykey'])\n",
    "\n",
    "cur.close()\n",
    "\n",
    "conn.close()\n"
   ]
  },
  {
   "cell_type": "code",
   "execution_count": null,
   "metadata": {},
   "outputs": [],
   "source": [
    "pd_data.head()"
   ]
  },
  {
   "cell_type": "code",
   "execution_count": null,
   "metadata": {},
   "outputs": [],
   "source": [
    "pd_data.columns"
   ]
  },
  {
   "cell_type": "code",
   "execution_count": null,
   "metadata": {},
   "outputs": [],
   "source": [
    "pd_data.groupby('categorykey')['productkey'].describe()"
   ]
  },
  {
   "cell_type": "code",
   "execution_count": null,
   "metadata": {},
   "outputs": [],
   "source": [
    "#call a function in the database\n",
    "\n",
    "cur.callproc('seldata','2')"
   ]
  },
  {
   "cell_type": "code",
   "execution_count": null,
   "metadata": {},
   "outputs": [],
   "source": [
    "cur.fetchall()"
   ]
  },
  {
   "cell_type": "code",
   "execution_count": null,
   "metadata": {},
   "outputs": [],
   "source": [
    "cur.callproc('seldata','3')"
   ]
  },
  {
   "cell_type": "code",
   "execution_count": null,
   "metadata": {},
   "outputs": [],
   "source": [
    "cur.fetchall()"
   ]
  },
  {
   "cell_type": "code",
   "execution_count": null,
   "metadata": {},
   "outputs": [],
   "source": [
    "cur.execute(\"CALL selectdata(2);\")"
   ]
  },
  {
   "cell_type": "code",
   "execution_count": null,
   "metadata": {},
   "outputs": [],
   "source": [
    "cur.close()\n",
    "conn.close()"
   ]
  },
  {
   "cell_type": "code",
   "execution_count": null,
   "metadata": {},
   "outputs": [],
   "source": [
    "#connecting to a different database to obtain data and put in pandas dataframe for analysis\n",
    "\n",
    "import psycopg2\n",
    "import pandas as pd\n",
    "import matplotlib.pyplot as plt\n",
    "\n",
    "\n",
    "conn = psycopg2.connect(\n",
    "    host=\"localhost\",\n",
    "    database=\"postgres\",\n",
    "    user=\"postgres\",\n",
    "    password=\"@Ebuka79\")\n",
    "\n",
    "cur = conn.cursor()\n",
    "\n",
    "cur.execute('SELECT version()')\n",
    "\n",
    "retrieve_com = \"\"\"\n",
    "SELECT * \n",
    "FROM test1_view\n",
    "\"\"\"\n",
    "\n",
    "cur.execute(retrieve_com)\n",
    "\n",
    "data = cur.fetchall()\n",
    "\n",
    "pd_data = pd.DataFrame(data, columns=['productkey','quantity','categorykey'])\n",
    "\n",
    "plt.figure(figsize=(10,8))\n",
    "plt.barh(pd_data['productkey'], pd_data['quantity'])\n",
    "plt.show()\n",
    "\n",
    "cur.close()\n",
    "\n",
    "conn.close()\n"
   ]
  },
  {
   "cell_type": "code",
   "execution_count": null,
   "metadata": {},
   "outputs": [],
   "source": [
    "# searching for particular information within a datatable gotten from the database\n",
    "pd_data.query(\"productkey=='Sugar'\")"
   ]
  },
  {
   "cell_type": "code",
   "execution_count": null,
   "metadata": {},
   "outputs": [],
   "source": [
    "search = pd_data.query(\"productkey=='Sugar'\")\n",
    "search['quantity'][0]"
   ]
  },
  {
   "cell_type": "code",
   "execution_count": null,
   "metadata": {},
   "outputs": [],
   "source": [
    "pd_data.groupby('categorykey').describe()"
   ]
  },
  {
   "cell_type": "code",
   "execution_count": null,
   "metadata": {},
   "outputs": [],
   "source": [
    "#function for opening and closing connection to postgres\n",
    "\n",
    "def pg_connect(status,*var):\n",
    "\n",
    "    global cur \n",
    "    \n",
    "    if status == 'connect':\n",
    "        cur = psycopg2.connect(\n",
    "        host=\"localhost\",\n",
    "        database=\"postgres\",\n",
    "        user=\"postgres\",\n",
    "        password=\"@Ebuka79\")\n",
    "        return cur.cursor()\n",
    "\n",
    "    elif status == 'close':\n",
    "        var[0].close()\n",
    "        cur.close()\n",
    "        print('connection closed')\n",
    "\n",
    "    else:\n",
    "        stat = input('status code incorrect please select either connect or stop: ')\n",
    "        pg_connect(stat)\n",
    "\n",
    "    "
   ]
  },
  {
   "cell_type": "code",
   "execution_count": null,
   "metadata": {},
   "outputs": [],
   "source": [
    "import psycopg2\n",
    "import pandas as pd\n",
    "\n",
    "test = pg_connect('connect')"
   ]
  },
  {
   "cell_type": "code",
   "execution_count": null,
   "metadata": {},
   "outputs": [],
   "source": [
    "test.execute('SELECT version()')\n",
    "test.fetchone()\n",
    "#test.close()"
   ]
  },
  {
   "cell_type": "code",
   "execution_count": null,
   "metadata": {},
   "outputs": [],
   "source": [
    "pg_connect('close',(test))"
   ]
  },
  {
   "cell_type": "code",
   "execution_count": null,
   "metadata": {},
   "outputs": [],
   "source": [
    "item = 'bread'\n",
    "quantity = 3\n",
    "\n",
    "print(f\"\"\"\n",
    "        INSERT INTO test_purchase(product,quantity,pk)\n",
    "        VALUES\n",
    "        ({item},{quantity},1)\"\"\")"
   ]
  },
  {
   "cell_type": "code",
   "execution_count": null,
   "metadata": {},
   "outputs": [],
   "source": [
    "import psycopg2\n",
    "import pandas as pd\n",
    "\n",
    "conn = psycopg2.connect(\n",
    "    host=\"localhost\",\n",
    "    database=\"postgres\",\n",
    "    user=\"postgres\",\n",
    "    password=\"@Ebuka79\")\n",
    "\n",
    "cur = conn.cursor()\n",
    "\n",
    "#cur.execute('SELECT version()')\n",
    "\n",
    "retrieve_com = \"\"\"\n",
    "        SELECT quantity\n",
    "        FROM product\n",
    "        WHERE productkey = 2\n",
    "\"\"\"\n",
    "\n",
    "cur.execute(retrieve_com)\n",
    "\n",
    "data = cur.fetchone()\n",
    "\n",
    "#pd_data = pd.DataFrame(data, columns=['productkey','productname','price','quantity','categorykey'])\n",
    "print(data[0])\n",
    "cur.close()\n",
    "\n",
    "conn.close()\n"
   ]
  },
  {
   "cell_type": "code",
   "execution_count": null,
   "metadata": {},
   "outputs": [],
   "source": [
    "import db_interact\n",
    "from db_interact import pg_db\n",
    "\n",
    "db = pg_db()\n",
    "db.pg_connect('connect')\n",
    "\n",
    "#db.test_run()\n",
    "\n",
    "test_query = 'SELECT productname,price FROM product WHERE categorykey=1'\n",
    "#print(db.view())\n",
    "#db.test()\n",
    "db.cur.execute(test_query)\n",
    "test_dt = db.cur.fetchall()\n",
    "\n",
    "#db.pg_connect('close')"
   ]
  },
  {
   "cell_type": "code",
   "execution_count": null,
   "metadata": {},
   "outputs": [],
   "source": [
    "test_dt"
   ]
  },
  {
   "cell_type": "code",
   "execution_count": null,
   "metadata": {},
   "outputs": [],
   "source": [
    "db.run_query(test_query)"
   ]
  },
  {
   "cell_type": "code",
   "execution_count": null,
   "metadata": {},
   "outputs": [],
   "source": [
    "db.pg_connect('close')"
   ]
  },
  {
   "cell_type": "code",
   "execution_count": 9,
   "metadata": {},
   "outputs": [
    {
     "name": "stdout",
     "output_type": "stream",
     "text": [
      "The autoreload extension is already loaded. To reload it, use:\n",
      "  %reload_ext autoreload\n"
     ]
    }
   ],
   "source": [
    "%load_ext autoreload\n",
    "%autoreload 3"
   ]
  },
  {
   "cell_type": "code",
   "execution_count": 10,
   "metadata": {},
   "outputs": [],
   "source": [
    "import db_interact\n",
    "from db_interact import pg_db\n",
    "\n",
    "db = pg_db()\n",
    "db.pg_connect('connect')\n",
    "\n",
    "#db.test_run()\n",
    "\n",
    "test_query = 'SELECT productname,price FROM product WHERE categorykey=1'\n",
    "\n",
    "test_dt = db.run_query(test_query)\n",
    "\n",
    "#db.pg_connect('close')"
   ]
  },
  {
   "cell_type": "code",
   "execution_count": 11,
   "metadata": {},
   "outputs": [],
   "source": [
    "#queries to use in the initialisation of the class to obtain information from the database\n",
    "stockcountquery = 'SELECT productname, quantity FROM product'\n",
    "productkeyquery = 'SELECT productkey,productname FROM product'\n",
    "foodquery = 'SELECT productname,price FROM product WHERE categorykey=1'\n",
    "householdquery = 'SELECT productname,price FROM product WHERE categorykey=2'\n",
    "clothquery = 'SELECT productname,price FROM product WHERE categorykey=3'"
   ]
  },
  {
   "cell_type": "code",
   "execution_count": 14,
   "metadata": {},
   "outputs": [],
   "source": [
    "scq = pd.DataFrame(db.run_query(stockcountquery), columns=['productname','quantity'])\n",
    "pkq = pd.DataFrame(db.run_query(productkeyquery), columns=['productkey','productname'])\n",
    "fq = pd.DataFrame(db.run_query(foodquery), columns=['productname','price'])\n",
    "hhq = pd.DataFrame(db.run_query(householdquery), columns=['productname','price'])\n",
    "cq = pd.DataFrame(db.run_query(clothquery), columns=['productname','price'])"
   ]
  },
  {
   "cell_type": "code",
   "execution_count": 23,
   "metadata": {},
   "outputs": [
    {
     "data": {
      "text/html": [
       "<div>\n",
       "<style scoped>\n",
       "    .dataframe tbody tr th:only-of-type {\n",
       "        vertical-align: middle;\n",
       "    }\n",
       "\n",
       "    .dataframe tbody tr th {\n",
       "        vertical-align: top;\n",
       "    }\n",
       "\n",
       "    .dataframe thead th {\n",
       "        text-align: right;\n",
       "    }\n",
       "</style>\n",
       "<table border=\"1\" class=\"dataframe\">\n",
       "  <thead>\n",
       "    <tr style=\"text-align: right;\">\n",
       "      <th></th>\n",
       "      <th>productname</th>\n",
       "      <th>quantity</th>\n",
       "    </tr>\n",
       "  </thead>\n",
       "  <tbody>\n",
       "    <tr>\n",
       "      <th>0</th>\n",
       "      <td>Sugar</td>\n",
       "      <td>1000</td>\n",
       "    </tr>\n",
       "  </tbody>\n",
       "</table>\n",
       "</div>"
      ],
      "text/plain": [
       "  productname  quantity\n",
       "0       Sugar      1000"
      ]
     },
     "execution_count": 23,
     "metadata": {},
     "output_type": "execute_result"
    }
   ],
   "source": [
    "scq.query(\"productname=='Sugar'\")"
   ]
  },
  {
   "cell_type": "code",
   "execution_count": 46,
   "metadata": {},
   "outputs": [],
   "source": [
    "product  = input(\"Enter what you want to buy: \")\n",
    "num = scq.query(f\"productname=='{product}'\")[\"quantity\"].iloc[0]"
   ]
  },
  {
   "cell_type": "code",
   "execution_count": 47,
   "metadata": {},
   "outputs": [
    {
     "data": {
      "text/plain": [
       "1000"
      ]
     },
     "execution_count": 47,
     "metadata": {},
     "output_type": "execute_result"
    }
   ],
   "source": [
    "num"
   ]
  },
  {
   "cell_type": "code",
   "execution_count": 26,
   "metadata": {},
   "outputs": [],
   "source": [
    "test_dict = {}\n",
    "test_dict['food'] = fq\n",
    "test_dict['household'] = hhq\n",
    "test_dict['clothes'] = cq"
   ]
  },
  {
   "cell_type": "code",
   "execution_count": 38,
   "metadata": {},
   "outputs": [],
   "source": [
    "y = test_dict['food'].query(\"productname=='Butter'\")"
   ]
  },
  {
   "cell_type": "code",
   "execution_count": 45,
   "metadata": {},
   "outputs": [
    {
     "data": {
      "text/plain": [
       "400"
      ]
     },
     "execution_count": 45,
     "metadata": {},
     "output_type": "execute_result"
    }
   ],
   "source": [
    "y['price'].iloc[0]"
   ]
  },
  {
   "cell_type": "code",
   "execution_count": 44,
   "metadata": {},
   "outputs": [
    {
     "data": {
      "text/plain": [
       "pandas.core.frame.DataFrame"
      ]
     },
     "execution_count": 44,
     "metadata": {},
     "output_type": "execute_result"
    }
   ],
   "source": [
    "type(y)"
   ]
  },
  {
   "cell_type": "code",
   "execution_count": 54,
   "metadata": {},
   "outputs": [
    {
     "data": {
      "text/plain": [
       "{'Sugar': 1000,\n",
       " 'Spagetti': 1000,\n",
       " 'Chair': 50,\n",
       " 'Kettle': 50,\n",
       " 'Iron': 50,\n",
       " 'Blender': 50,\n",
       " 'Rechargeable Fan': 25,\n",
       " 'Fan': 25,\n",
       " 'Extension': 50,\n",
       " 'Table': 25,\n",
       " 'Shirt': 100,\n",
       " 'Polo shirt': 100,\n",
       " 'Trousers': 100,\n",
       " 'Chinos': 100,\n",
       " 'Skirt': 100,\n",
       " 'Jeans': 100,\n",
       " 'Blouse': 100,\n",
       " 'boxers': 2000,\n",
       " 'Egg': 1000,\n",
       " 'Indomie': 1000,\n",
       " 'Butter': 1000,\n",
       " 'Milk': 1000,\n",
       " 'Salt': 1000,\n",
       " 'Chin-chin': 2000,\n",
       " 'Biscuit': 2000,\n",
       " 'Bread': 500}"
      ]
     },
     "execution_count": 54,
     "metadata": {},
     "output_type": "execute_result"
    }
   ],
   "source": [
    "#converting datatable to dict\n",
    "#scq.set_index('productname',inplace=True)\n",
    "scq_dict = scq.to_dict()['quantity']\n",
    "scq_dict"
   ]
  },
  {
   "cell_type": "code",
   "execution_count": 72,
   "metadata": {},
   "outputs": [],
   "source": [
    "x = pd.DataFrame(db.run_query(stockcountquery), columns=['productname','quantity'])"
   ]
  },
  {
   "cell_type": "code",
   "execution_count": 73,
   "metadata": {},
   "outputs": [
    {
     "data": {
      "text/plain": [
       "{'Sugar': 1000,\n",
       " 'Spagetti': 1000,\n",
       " 'Chair': 50,\n",
       " 'Kettle': 50,\n",
       " 'Iron': 50,\n",
       " 'Blender': 50,\n",
       " 'Rechargeable Fan': 25,\n",
       " 'Fan': 25,\n",
       " 'Extension': 50,\n",
       " 'Table': 25,\n",
       " 'Shirt': 100,\n",
       " 'Polo shirt': 100,\n",
       " 'Trousers': 100,\n",
       " 'Chinos': 100,\n",
       " 'Skirt': 100,\n",
       " 'Jeans': 100,\n",
       " 'Blouse': 100,\n",
       " 'boxers': 2000,\n",
       " 'Egg': 1000,\n",
       " 'Indomie': 1000,\n",
       " 'Butter': 1000,\n",
       " 'Milk': 1000,\n",
       " 'Salt': 1000,\n",
       " 'Chin-chin': 2000,\n",
       " 'Biscuit': 2000,\n",
       " 'Bread': 500}"
      ]
     },
     "execution_count": 73,
     "metadata": {},
     "output_type": "execute_result"
    }
   ],
   "source": [
    "x.set_index('productname',inplace=True)\n",
    "x.to_dict()['quantity']"
   ]
  },
  {
   "cell_type": "code",
   "execution_count": 83,
   "metadata": {},
   "outputs": [],
   "source": [
    "x = x.to_dict()['quantity']"
   ]
  },
  {
   "cell_type": "code",
   "execution_count": 80,
   "metadata": {},
   "outputs": [
    {
     "name": "stdout",
     "output_type": "stream",
     "text": [
      "connection closed\n"
     ]
    }
   ],
   "source": [
    "db.pg_connect('close')"
   ]
  },
  {
   "cell_type": "code",
   "execution_count": null,
   "metadata": {},
   "outputs": [],
   "source": []
  },
  {
   "cell_type": "code",
   "execution_count": null,
   "metadata": {},
   "outputs": [],
   "source": []
  }
 ],
 "metadata": {
  "kernelspec": {
   "display_name": "Python 3.9.12 ('base')",
   "language": "python",
   "name": "python3"
  },
  "language_info": {
   "codemirror_mode": {
    "name": "ipython",
    "version": 3
   },
   "file_extension": ".py",
   "mimetype": "text/x-python",
   "name": "python",
   "nbconvert_exporter": "python",
   "pygments_lexer": "ipython3",
   "version": "3.9.12"
  },
  "orig_nbformat": 4,
  "vscode": {
   "interpreter": {
    "hash": "53b9acdd54ac879a551304c815d5656c3a1d5d5cc610a256e6098324c699f771"
   }
  }
 },
 "nbformat": 4,
 "nbformat_minor": 2
}
