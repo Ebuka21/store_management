{
 "cells": [
  {
   "cell_type": "markdown",
   "metadata": {},
   "source": [
    "### Database\n",
    "\n",
    "###### This will help understand how to connect to postgres database, retrieve information and also update the information on it"
   ]
  },
  {
   "cell_type": "markdown",
   "metadata": {},
   "source": [
    "Start by installing the python package for connecting to PostgreSQL database which is psycopg2"
   ]
  },
  {
   "cell_type": "code",
   "execution_count": 1,
   "metadata": {},
   "outputs": [
    {
     "name": "stdout",
     "output_type": "stream",
     "text": [
      "('PostgreSQL 14.3, compiled by Visual C++ build 1914, 64-bit',)\n"
     ]
    }
   ],
   "source": [
    "#Connect to postgres\n",
    "import psycopg2\n",
    "\n",
    "conn = psycopg2.connect(\n",
    "    host=\"localhost\",\n",
    "    database=\"postgres\",\n",
    "    user=\"postgres\",\n",
    "    password=\"@Ebuka79\")\n",
    "\n",
    "cur = conn.cursor()\n",
    "\n",
    "cur.execute('SELECT version()')\n",
    "\n",
    "print(cur.fetchone())\n",
    "\n",
    "#cur.close()"
   ]
  },
  {
   "cell_type": "code",
   "execution_count": 7,
   "metadata": {},
   "outputs": [
    {
     "name": "stdout",
     "output_type": "stream",
     "text": [
      "Table creation successful\n"
     ]
    }
   ],
   "source": [
    "#create a table in the database\n",
    "\n",
    "create_command = \"\"\"\n",
    "CREATE TABLE Test(\n",
    "    firstname VARCHAR(15),\n",
    "    lastname VARCHAR(15),\n",
    "    age INT,\n",
    "    location VARCHAR(2),\n",
    "    occupation VARCHAR(10)\n",
    ")\n",
    "\"\"\"\n",
    "\n",
    "cur.execute(create_command)\n",
    "\n",
    "cur.close()\n",
    "\n",
    "conn.commit()\n",
    "\n",
    "print(\"Table creation successful\")\n",
    "\n",
    "conn.close()\n",
    "\n"
   ]
  },
  {
   "cell_type": "code",
   "execution_count": 13,
   "metadata": {},
   "outputs": [
    {
     "name": "stdout",
     "output_type": "stream",
     "text": [
      "Values added successfully\n"
     ]
    }
   ],
   "source": [
    "#insert values into test table in database\n",
    "\n",
    "insert_com = \"\"\"\n",
    "INSERT INTO \n",
    "    test (firstname,lastname,age,location,occupation)\n",
    "VALUES\n",
    "    ('Ebuka','Ifechukwu',24,'LG','Engineer'),\n",
    "    ('Chidera','Ifechukwu',23,'UK','Media'),\n",
    "    ('Ugonna','Ifechukwu',19,'EN','Lawyer'),\n",
    "    ('Uchenna','Ifechukwu',19,'LG','Designer')\n",
    "\"\"\"\n",
    "\n",
    "cur.execute(insert_com)\n",
    "\n",
    "cur.close()\n",
    "\n",
    "conn.commit()\n",
    "\n",
    "print(\"Values added successfully\")\n",
    "\n",
    "conn.close()"
   ]
  },
  {
   "cell_type": "markdown",
   "metadata": {},
   "source": [
    "Note: if a transaction or command was not successful, it cannot be redone until the connection to the database has been closed and opened again. Best to do an exception to avoid this"
   ]
  },
  {
   "cell_type": "code",
   "execution_count": 15,
   "metadata": {},
   "outputs": [
    {
     "name": "stdout",
     "output_type": "stream",
     "text": [
      "[('Ebuka', 'Ifechukwu', 24, 'LG', 'Engineer'), ('Chidera', 'Ifechukwu', 23, 'UK', 'Media'), ('Ugonna', 'Ifechukwu', 19, 'EN', 'Lawyer'), ('Uchenna', 'Ifechukwu', 19, 'LG', 'Designer')]\n"
     ]
    }
   ],
   "source": [
    "#obtain data from database\n",
    "import pandas as pd\n",
    "\n",
    "retrieve_com = \"\"\"\n",
    "SELECT * \n",
    "FROM test\n",
    "\"\"\"\n",
    "\n",
    "cur.execute(retrieve_com)\n",
    "\n",
    "data = cur.fetchall()\n",
    "\n",
    "print(data)\n",
    "\n",
    "cur.close()\n",
    "\n",
    "conn.close()"
   ]
  },
  {
   "cell_type": "code",
   "execution_count": 21,
   "metadata": {},
   "outputs": [
    {
     "data": {
      "text/plain": [
       "[('Ebuka', 'Ifechukwu', 24, 'LG', 'Engineer'),\n",
       " ('Chidera', 'Ifechukwu', 23, 'UK', 'Media'),\n",
       " ('Ugonna', 'Ifechukwu', 19, 'EN', 'Lawyer'),\n",
       " ('Uchenna', 'Ifechukwu', 19, 'LG', 'Designer')]"
      ]
     },
     "execution_count": 21,
     "metadata": {},
     "output_type": "execute_result"
    }
   ],
   "source": [
    "{\n",
    "    \"tags\": [\n",
    "        \"hide-input\",\n",
    "    ]\n",
    "}\n",
    "\n",
    "data"
   ]
  },
  {
   "cell_type": "code",
   "execution_count": 17,
   "metadata": {},
   "outputs": [
    {
     "data": {
      "text/html": [
       "<div>\n",
       "<style scoped>\n",
       "    .dataframe tbody tr th:only-of-type {\n",
       "        vertical-align: middle;\n",
       "    }\n",
       "\n",
       "    .dataframe tbody tr th {\n",
       "        vertical-align: top;\n",
       "    }\n",
       "\n",
       "    .dataframe thead th {\n",
       "        text-align: right;\n",
       "    }\n",
       "</style>\n",
       "<table border=\"1\" class=\"dataframe\">\n",
       "  <thead>\n",
       "    <tr style=\"text-align: right;\">\n",
       "      <th></th>\n",
       "      <th>firstname</th>\n",
       "      <th>lastname</th>\n",
       "      <th>age</th>\n",
       "      <th>location</th>\n",
       "      <th>occupation</th>\n",
       "    </tr>\n",
       "  </thead>\n",
       "  <tbody>\n",
       "    <tr>\n",
       "      <th>0</th>\n",
       "      <td>Ebuka</td>\n",
       "      <td>Ifechukwu</td>\n",
       "      <td>24</td>\n",
       "      <td>LG</td>\n",
       "      <td>Engineer</td>\n",
       "    </tr>\n",
       "    <tr>\n",
       "      <th>1</th>\n",
       "      <td>Chidera</td>\n",
       "      <td>Ifechukwu</td>\n",
       "      <td>23</td>\n",
       "      <td>UK</td>\n",
       "      <td>Media</td>\n",
       "    </tr>\n",
       "    <tr>\n",
       "      <th>2</th>\n",
       "      <td>Ugonna</td>\n",
       "      <td>Ifechukwu</td>\n",
       "      <td>19</td>\n",
       "      <td>EN</td>\n",
       "      <td>Lawyer</td>\n",
       "    </tr>\n",
       "    <tr>\n",
       "      <th>3</th>\n",
       "      <td>Uchenna</td>\n",
       "      <td>Ifechukwu</td>\n",
       "      <td>19</td>\n",
       "      <td>LG</td>\n",
       "      <td>Designer</td>\n",
       "    </tr>\n",
       "  </tbody>\n",
       "</table>\n",
       "</div>"
      ],
      "text/plain": [
       "  firstname   lastname  age location occupation\n",
       "0     Ebuka  Ifechukwu   24       LG   Engineer\n",
       "1   Chidera  Ifechukwu   23       UK      Media\n",
       "2    Ugonna  Ifechukwu   19       EN     Lawyer\n",
       "3   Uchenna  Ifechukwu   19       LG   Designer"
      ]
     },
     "execution_count": 17,
     "metadata": {},
     "output_type": "execute_result"
    }
   ],
   "source": [
    "#convert the list of tuples to dataframe in pandas for more analysis\n",
    "\n",
    "pd_data = pd.DataFrame(data, columns=['firstname','lastname','age','location','occupation'])\n",
    "\n",
    "pd_data"
   ]
  },
  {
   "cell_type": "code",
   "execution_count": 1,
   "metadata": {},
   "outputs": [],
   "source": [
    "#connecting to a different database to obtain data and put in pandas dataframe for analysis\n",
    "\n",
    "import psycopg2\n",
    "import pandas as pd\n",
    "\n",
    "conn = psycopg2.connect(\n",
    "    host=\"localhost\",\n",
    "    database=\"postgres\",\n",
    "    user=\"postgres\",\n",
    "    password=\"@Ebuka79\")\n",
    "\n",
    "cur = conn.cursor()\n",
    "\n",
    "cur.execute('SELECT version()')\n",
    "\n",
    "retrieve_com = \"\"\"\n",
    "SELECT * \n",
    "FROM product\n",
    "\"\"\"\n",
    "\n",
    "cur.execute(retrieve_com)\n",
    "\n",
    "data = cur.fetchall()\n",
    "\n",
    "pd_data = pd.DataFrame(data, columns=['productkey','productname','price','quantity','categorykey'])\n",
    "\n",
    "cur.close()\n",
    "\n",
    "conn.close()\n"
   ]
  },
  {
   "cell_type": "code",
   "execution_count": 2,
   "metadata": {},
   "outputs": [
    {
     "data": {
      "text/html": [
       "<div>\n",
       "<style scoped>\n",
       "    .dataframe tbody tr th:only-of-type {\n",
       "        vertical-align: middle;\n",
       "    }\n",
       "\n",
       "    .dataframe tbody tr th {\n",
       "        vertical-align: top;\n",
       "    }\n",
       "\n",
       "    .dataframe thead th {\n",
       "        text-align: right;\n",
       "    }\n",
       "</style>\n",
       "<table border=\"1\" class=\"dataframe\">\n",
       "  <thead>\n",
       "    <tr style=\"text-align: right;\">\n",
       "      <th></th>\n",
       "      <th>productkey</th>\n",
       "      <th>productname</th>\n",
       "      <th>price</th>\n",
       "      <th>quantity</th>\n",
       "      <th>categorykey</th>\n",
       "    </tr>\n",
       "  </thead>\n",
       "  <tbody>\n",
       "    <tr>\n",
       "      <th>0</th>\n",
       "      <td>3</td>\n",
       "      <td>Bread</td>\n",
       "      <td>500</td>\n",
       "      <td>500</td>\n",
       "      <td>1</td>\n",
       "    </tr>\n",
       "    <tr>\n",
       "      <th>1</th>\n",
       "      <td>4</td>\n",
       "      <td>Butter</td>\n",
       "      <td>400</td>\n",
       "      <td>1000</td>\n",
       "      <td>1</td>\n",
       "    </tr>\n",
       "    <tr>\n",
       "      <th>2</th>\n",
       "      <td>5</td>\n",
       "      <td>Milk</td>\n",
       "      <td>1400</td>\n",
       "      <td>1000</td>\n",
       "      <td>1</td>\n",
       "    </tr>\n",
       "    <tr>\n",
       "      <th>3</th>\n",
       "      <td>6</td>\n",
       "      <td>Sugar</td>\n",
       "      <td>200</td>\n",
       "      <td>1000</td>\n",
       "      <td>1</td>\n",
       "    </tr>\n",
       "    <tr>\n",
       "      <th>4</th>\n",
       "      <td>7</td>\n",
       "      <td>Salt</td>\n",
       "      <td>200</td>\n",
       "      <td>1000</td>\n",
       "      <td>1</td>\n",
       "    </tr>\n",
       "  </tbody>\n",
       "</table>\n",
       "</div>"
      ],
      "text/plain": [
       "   productkey productname  price  quantity  categorykey\n",
       "0           3       Bread    500       500            1\n",
       "1           4      Butter    400      1000            1\n",
       "2           5        Milk   1400      1000            1\n",
       "3           6       Sugar    200      1000            1\n",
       "4           7        Salt    200      1000            1"
      ]
     },
     "execution_count": 2,
     "metadata": {},
     "output_type": "execute_result"
    }
   ],
   "source": [
    "pd_data.head()"
   ]
  },
  {
   "cell_type": "code",
   "execution_count": 32,
   "metadata": {},
   "outputs": [
    {
     "data": {
      "text/plain": [
       "Index(['productkey', 'productname', 'price', 'quantity', 'categorykey'], dtype='object')"
      ]
     },
     "execution_count": 32,
     "metadata": {},
     "output_type": "execute_result"
    }
   ],
   "source": [
    "pd_data.columns"
   ]
  },
  {
   "cell_type": "code",
   "execution_count": 35,
   "metadata": {},
   "outputs": [
    {
     "data": {
      "text/html": [
       "<div>\n",
       "<style scoped>\n",
       "    .dataframe tbody tr th:only-of-type {\n",
       "        vertical-align: middle;\n",
       "    }\n",
       "\n",
       "    .dataframe tbody tr th {\n",
       "        vertical-align: top;\n",
       "    }\n",
       "\n",
       "    .dataframe thead th {\n",
       "        text-align: right;\n",
       "    }\n",
       "</style>\n",
       "<table border=\"1\" class=\"dataframe\">\n",
       "  <thead>\n",
       "    <tr style=\"text-align: right;\">\n",
       "      <th></th>\n",
       "      <th>count</th>\n",
       "      <th>mean</th>\n",
       "      <th>std</th>\n",
       "      <th>min</th>\n",
       "      <th>25%</th>\n",
       "      <th>50%</th>\n",
       "      <th>75%</th>\n",
       "      <th>max</th>\n",
       "    </tr>\n",
       "    <tr>\n",
       "      <th>categorykey</th>\n",
       "      <th></th>\n",
       "      <th></th>\n",
       "      <th></th>\n",
       "      <th></th>\n",
       "      <th></th>\n",
       "      <th></th>\n",
       "      <th></th>\n",
       "      <th></th>\n",
       "    </tr>\n",
       "  </thead>\n",
       "  <tbody>\n",
       "    <tr>\n",
       "      <th>1</th>\n",
       "      <td>10.0</td>\n",
       "      <td>5.5</td>\n",
       "      <td>3.027650</td>\n",
       "      <td>1.0</td>\n",
       "      <td>3.25</td>\n",
       "      <td>5.5</td>\n",
       "      <td>7.75</td>\n",
       "      <td>10.0</td>\n",
       "    </tr>\n",
       "    <tr>\n",
       "      <th>2</th>\n",
       "      <td>8.0</td>\n",
       "      <td>14.5</td>\n",
       "      <td>2.449490</td>\n",
       "      <td>11.0</td>\n",
       "      <td>12.75</td>\n",
       "      <td>14.5</td>\n",
       "      <td>16.25</td>\n",
       "      <td>18.0</td>\n",
       "    </tr>\n",
       "    <tr>\n",
       "      <th>3</th>\n",
       "      <td>7.0</td>\n",
       "      <td>22.0</td>\n",
       "      <td>2.160247</td>\n",
       "      <td>19.0</td>\n",
       "      <td>20.50</td>\n",
       "      <td>22.0</td>\n",
       "      <td>23.50</td>\n",
       "      <td>25.0</td>\n",
       "    </tr>\n",
       "  </tbody>\n",
       "</table>\n",
       "</div>"
      ],
      "text/plain": [
       "             count  mean       std   min    25%   50%    75%   max\n",
       "categorykey                                                       \n",
       "1             10.0   5.5  3.027650   1.0   3.25   5.5   7.75  10.0\n",
       "2              8.0  14.5  2.449490  11.0  12.75  14.5  16.25  18.0\n",
       "3              7.0  22.0  2.160247  19.0  20.50  22.0  23.50  25.0"
      ]
     },
     "execution_count": 35,
     "metadata": {},
     "output_type": "execute_result"
    }
   ],
   "source": [
    "pd_data.groupby('categorykey')['productkey'].describe()"
   ]
  },
  {
   "cell_type": "code",
   "execution_count": 8,
   "metadata": {},
   "outputs": [
    {
     "data": {
      "text/plain": [
       "'2'"
      ]
     },
     "execution_count": 8,
     "metadata": {},
     "output_type": "execute_result"
    }
   ],
   "source": [
    "#call a function in the database\n",
    "\n",
    "cur.callproc('seldata','2')"
   ]
  },
  {
   "cell_type": "code",
   "execution_count": 9,
   "metadata": {},
   "outputs": [
    {
     "data": {
      "text/plain": [
       "[(11, 'Chair', 15000, 50, 2),\n",
       " (12, 'Kettle', 3000, 50, 2),\n",
       " (13, 'Iron', 4000, 50, 2),\n",
       " (14, 'Blender', 12000, 50, 2),\n",
       " (15, 'Rechargeable Fan', 23000, 25, 2),\n",
       " (16, 'Fan', 15000, 25, 2),\n",
       " (17, 'Extension', 800, 50, 2),\n",
       " (18, 'Table', 30000, 25, 2)]"
      ]
     },
     "execution_count": 9,
     "metadata": {},
     "output_type": "execute_result"
    }
   ],
   "source": [
    "cur.fetchall()"
   ]
  },
  {
   "cell_type": "code",
   "execution_count": 10,
   "metadata": {},
   "outputs": [
    {
     "data": {
      "text/plain": [
       "'3'"
      ]
     },
     "execution_count": 10,
     "metadata": {},
     "output_type": "execute_result"
    }
   ],
   "source": [
    "cur.callproc('seldata','3')"
   ]
  },
  {
   "cell_type": "code",
   "execution_count": 11,
   "metadata": {},
   "outputs": [
    {
     "data": {
      "text/plain": [
       "[(19, 'Shirt', 2000, 100, 3),\n",
       " (20, 'Polo shirt', 4000, 100, 3),\n",
       " (21, 'Trousers', 5000, 100, 3),\n",
       " (22, 'Chinos', 5000, 100, 3),\n",
       " (23, 'Skirt', 4000, 100, 3),\n",
       " (24, 'Jeans', 7000, 100, 3),\n",
       " (25, 'Blouse', 7000, 100, 3),\n",
       " (30, 'boxers', 500, 2000, 3)]"
      ]
     },
     "execution_count": 11,
     "metadata": {},
     "output_type": "execute_result"
    }
   ],
   "source": [
    "cur.fetchall()"
   ]
  },
  {
   "cell_type": "code",
   "execution_count": 12,
   "metadata": {},
   "outputs": [],
   "source": [
    "cur.execute(\"CALL selectdata(2);\")"
   ]
  },
  {
   "cell_type": "code",
   "execution_count": 13,
   "metadata": {},
   "outputs": [],
   "source": [
    "cur.close()\n",
    "conn.close()"
   ]
  },
  {
   "cell_type": "code",
   "execution_count": 3,
   "metadata": {},
   "outputs": [
    {
     "data": {
      "image/png": "[encoded data removed]",
      "text/plain": [
       "<Figure size 432x288 with 1 Axes>"
      ]
     },
     "metadata": {
      "needs_background": "light"
     },
     "output_type": "display_data"
    }
   ],
   "source": [
    "#connecting to a different database to obtain data and put in pandas dataframe for analysis\n",
    "\n",
    "import psycopg2\n",
    "import pandas as pd\n",
    "import matplotlib.pyplot as plt\n",
    "\n",
    "\n",
    "conn = psycopg2.connect(\n",
    "    host=\"localhost\",\n",
    "    database=\"postgres\",\n",
    "    user=\"postgres\",\n",
    "    password=\"@Ebuka79\")\n",
    "\n",
    "cur = conn.cursor()\n",
    "\n",
    "cur.execute('SELECT version()')\n",
    "\n",
    "retrieve_com = \"\"\"\n",
    "SELECT * \n",
    "FROM test1_view\n",
    "\"\"\"\n",
    "\n",
    "cur.execute(retrieve_com)\n",
    "\n",
    "data = cur.fetchall()\n",
    "\n",
    "pd_data = pd.DataFrame(data, columns=['productkey','quantity','categorykey'])\n",
    "\n",
    "plt.barh(pd_data['productkey'], pd_data['quantity'])\n",
    "plt.show()\n",
    "\n",
    "cur.close()\n",
    "\n",
    "conn.close()\n"
   ]
  },
  {
   "cell_type": "code",
   "execution_count": 5,
   "metadata": {},
   "outputs": [
    {
     "data": {
      "text/html": [
       "<div>\n",
       "<style scoped>\n",
       "    .dataframe tbody tr th:only-of-type {\n",
       "        vertical-align: middle;\n",
       "    }\n",
       "\n",
       "    .dataframe tbody tr th {\n",
       "        vertical-align: top;\n",
       "    }\n",
       "\n",
       "    .dataframe thead tr th {\n",
       "        text-align: left;\n",
       "    }\n",
       "\n",
       "    .dataframe thead tr:last-of-type th {\n",
       "        text-align: right;\n",
       "    }\n",
       "</style>\n",
       "<table border=\"1\" class=\"dataframe\">\n",
       "  <thead>\n",
       "    <tr>\n",
       "      <th></th>\n",
       "      <th colspan=\"8\" halign=\"left\">quantity</th>\n",
       "    </tr>\n",
       "    <tr>\n",
       "      <th></th>\n",
       "      <th>count</th>\n",
       "      <th>mean</th>\n",
       "      <th>std</th>\n",
       "      <th>min</th>\n",
       "      <th>25%</th>\n",
       "      <th>50%</th>\n",
       "      <th>75%</th>\n",
       "      <th>max</th>\n",
       "    </tr>\n",
       "    <tr>\n",
       "      <th>categorykey</th>\n",
       "      <th></th>\n",
       "      <th></th>\n",
       "      <th></th>\n",
       "      <th></th>\n",
       "      <th></th>\n",
       "      <th></th>\n",
       "      <th></th>\n",
       "      <th></th>\n",
       "    </tr>\n",
       "  </thead>\n",
       "  <tbody>\n",
       "    <tr>\n",
       "      <th>1</th>\n",
       "      <td>10.0</td>\n",
       "      <td>1141.000</td>\n",
       "      <td>477.876088</td>\n",
       "      <td>500.0</td>\n",
       "      <td>970.0</td>\n",
       "      <td>1000.0</td>\n",
       "      <td>1000.0</td>\n",
       "      <td>2000.0</td>\n",
       "    </tr>\n",
       "    <tr>\n",
       "      <th>2</th>\n",
       "      <td>8.0</td>\n",
       "      <td>40.625</td>\n",
       "      <td>12.938729</td>\n",
       "      <td>25.0</td>\n",
       "      <td>25.0</td>\n",
       "      <td>50.0</td>\n",
       "      <td>50.0</td>\n",
       "      <td>50.0</td>\n",
       "    </tr>\n",
       "    <tr>\n",
       "      <th>3</th>\n",
       "      <td>8.0</td>\n",
       "      <td>337.500</td>\n",
       "      <td>671.751442</td>\n",
       "      <td>100.0</td>\n",
       "      <td>100.0</td>\n",
       "      <td>100.0</td>\n",
       "      <td>100.0</td>\n",
       "      <td>2000.0</td>\n",
       "    </tr>\n",
       "  </tbody>\n",
       "</table>\n",
       "</div>"
      ],
      "text/plain": [
       "            quantity                                                      \\\n",
       "               count      mean         std    min    25%     50%     75%   \n",
       "categorykey                                                                \n",
       "1               10.0  1141.000  477.876088  500.0  970.0  1000.0  1000.0   \n",
       "2                8.0    40.625   12.938729   25.0   25.0    50.0    50.0   \n",
       "3                8.0   337.500  671.751442  100.0  100.0   100.0   100.0   \n",
       "\n",
       "                     \n",
       "                max  \n",
       "categorykey          \n",
       "1            2000.0  \n",
       "2              50.0  \n",
       "3            2000.0  "
      ]
     },
     "execution_count": 5,
     "metadata": {},
     "output_type": "execute_result"
    }
   ],
   "source": [
    "pd_data.groupby('categorykey').describe()"
   ]
  },
  {
   "cell_type": "code",
   "execution_count": 17,
   "metadata": {},
   "outputs": [],
   "source": [
    "#function for opening and closing connection to postgres\n",
    "\n",
    "def pg_connect(status,*var):\n",
    "\n",
    "    global cur \n",
    "    \n",
    "    if status == 'connect':\n",
    "        cur = psycopg2.connect(\n",
    "        host=\"localhost\",\n",
    "        database=\"postgres\",\n",
    "        user=\"postgres\",\n",
    "        password=\"@Ebuka79\")\n",
    "        return cur.cursor()\n",
    "\n",
    "    elif status == 'close':\n",
    "        var[0].close()\n",
    "        cur.close()\n",
    "        print('connection closed')\n",
    "\n",
    "    else:\n",
    "        stat = input('status code incorrect please select either connect or stop: ')\n",
    "        pg_connect(stat)\n",
    "\n",
    "    "
   ]
  },
  {
   "cell_type": "code",
   "execution_count": 18,
   "metadata": {},
   "outputs": [],
   "source": [
    "import psycopg2\n",
    "import pandas as pd\n",
    "\n",
    "test = pg_connect('connect')"
   ]
  },
  {
   "cell_type": "code",
   "execution_count": 19,
   "metadata": {},
   "outputs": [
    {
     "data": {
      "text/plain": [
       "('PostgreSQL 14.3, compiled by Visual C++ build 1914, 64-bit',)"
      ]
     },
     "execution_count": 19,
     "metadata": {},
     "output_type": "execute_result"
    }
   ],
   "source": [
    "test.execute('SELECT version()')\n",
    "test.fetchone()\n",
    "#test.close()"
   ]
  },
  {
   "cell_type": "code",
   "execution_count": 20,
   "metadata": {},
   "outputs": [
    {
     "name": "stdout",
     "output_type": "stream",
     "text": [
      "connection closed\n"
     ]
    }
   ],
   "source": [
    "pg_connect('close',(test))"
   ]
  },
  {
   "cell_type": "code",
   "execution_count": null,
   "metadata": {},
   "outputs": [],
   "source": []
  }
 ],
 "metadata": {
  "kernelspec": {
   "display_name": "Python 3.9.12 ('base')",
   "language": "python",
   "name": "python3"
  },
  "language_info": {
   "codemirror_mode": {
    "name": "ipython",
    "version": 3
   },
   "file_extension": ".py",
   "mimetype": "text/x-python",
   "name": "python",
   "nbconvert_exporter": "python",
   "pygments_lexer": "ipython3",
   "version": "3.9.12"
  },
  "orig_nbformat": 4,
  "vscode": {
   "interpreter": {
    "hash": "53b9acdd54ac879a551304c815d5656c3a1d5d5cc610a256e6098324c699f771"
   }
  }
 },
 "nbformat": 4,
 "nbformat_minor": 2
}
