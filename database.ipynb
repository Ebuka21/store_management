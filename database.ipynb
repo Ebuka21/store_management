{
 "cells": [
  {
   "cell_type": "markdown",
   "metadata": {},
   "source": [
    "### Database\n",
    "\n",
    "###### This will help understand how to connect to postgres database, retrieve information and also update the information on it"
   ]
  },
  {
   "cell_type": "markdown",
   "metadata": {},
   "source": [
    "Start by installing the python package for connecting to PostgreSQL database which is psycopg2"
   ]
  },
  {
   "cell_type": "code",
   "execution_count": 14,
   "metadata": {},
   "outputs": [
    {
     "name": "stdout",
     "output_type": "stream",
     "text": [
      "('PostgreSQL 14.3, compiled by Visual C++ build 1914, 64-bit',)\n"
     ]
    }
   ],
   "source": [
    "#Connect to postgres\n",
    "import psycopg2\n",
    "\n",
    "conn = psycopg2.connect(\n",
    "    host=\"localhost\",\n",
    "    database=\"Pratice\",\n",
    "    user=\"postgres\",\n",
    "    password=\"@Ebuka79\")\n",
    "\n",
    "cur = conn.cursor()\n",
    "\n",
    "cur.execute('SELECT version()')\n",
    "\n",
    "print(cur.fetchone())\n",
    "\n",
    "#cur.close()"
   ]
  },
  {
   "cell_type": "code",
   "execution_count": 7,
   "metadata": {},
   "outputs": [
    {
     "name": "stdout",
     "output_type": "stream",
     "text": [
      "Table creation successful\n"
     ]
    }
   ],
   "source": [
    "#create a table in the database\n",
    "\n",
    "create_command = \"\"\"\n",
    "CREATE TABLE Test(\n",
    "    firstname VARCHAR(15),\n",
    "    lastname VARCHAR(15),\n",
    "    age INT,\n",
    "    location VARCHAR(2),\n",
    "    occupation VARCHAR(10)\n",
    ")\n",
    "\"\"\"\n",
    "\n",
    "cur.execute(create_command)\n",
    "\n",
    "cur.close()\n",
    "\n",
    "conn.commit()\n",
    "\n",
    "print(\"Table creation successful\")\n",
    "\n",
    "conn.close()\n",
    "\n"
   ]
  },
  {
   "cell_type": "code",
   "execution_count": 13,
   "metadata": {},
   "outputs": [
    {
     "name": "stdout",
     "output_type": "stream",
     "text": [
      "Values added successfully\n"
     ]
    }
   ],
   "source": [
    "#insert values into test table in database\n",
    "\n",
    "insert_com = \"\"\"\n",
    "INSERT INTO \n",
    "    test (firstname,lastname,age,location,occupation)\n",
    "VALUES\n",
    "    ('Ebuka','Ifechukwu',24,'LG','Engineer'),\n",
    "    ('Chidera','Ifechukwu',23,'UK','Media'),\n",
    "    ('Ugonna','Ifechukwu',19,'EN','Lawyer'),\n",
    "    ('Uchenna','Ifechukwu',19,'LG','Designer')\n",
    "\"\"\"\n",
    "\n",
    "cur.execute(insert_com)\n",
    "\n",
    "cur.close()\n",
    "\n",
    "conn.commit()\n",
    "\n",
    "print(\"Values added successfully\")\n",
    "\n",
    "conn.close()"
   ]
  },
  {
   "cell_type": "markdown",
   "metadata": {},
   "source": [
    "Note: if a transaction or command was not successful, it cannot be redone until the connection to the database has been closed and opened again. Best to do an exception to avoid this"
   ]
  },
  {
   "cell_type": "code",
   "execution_count": 15,
   "metadata": {},
   "outputs": [
    {
     "name": "stdout",
     "output_type": "stream",
     "text": [
      "[('Ebuka', 'Ifechukwu', 24, 'LG', 'Engineer'), ('Chidera', 'Ifechukwu', 23, 'UK', 'Media'), ('Ugonna', 'Ifechukwu', 19, 'EN', 'Lawyer'), ('Uchenna', 'Ifechukwu', 19, 'LG', 'Designer')]\n"
     ]
    }
   ],
   "source": [
    "#obtain data from database\n",
    "import pandas as pd\n",
    "\n",
    "retrieve_com = \"\"\"\n",
    "SELECT * \n",
    "FROM test\n",
    "\"\"\"\n",
    "\n",
    "cur.execute(retrieve_com)\n",
    "\n",
    "data = cur.fetchall()\n",
    "\n",
    "print(data)\n",
    "\n",
    "cur.close()\n",
    "\n",
    "conn.close()"
   ]
  },
  {
   "cell_type": "code",
   "execution_count": 21,
   "metadata": {},
   "outputs": [
    {
     "data": {
      "text/plain": [
       "[('Ebuka', 'Ifechukwu', 24, 'LG', 'Engineer'),\n",
       " ('Chidera', 'Ifechukwu', 23, 'UK', 'Media'),\n",
       " ('Ugonna', 'Ifechukwu', 19, 'EN', 'Lawyer'),\n",
       " ('Uchenna', 'Ifechukwu', 19, 'LG', 'Designer')]"
      ]
     },
     "execution_count": 21,
     "metadata": {},
     "output_type": "execute_result"
    }
   ],
   "source": [
    "{\n",
    "    \"tags\": [\n",
    "        \"hide-input\",\n",
    "    ]\n",
    "}\n",
    "\n",
    "data"
   ]
  },
  {
   "cell_type": "code",
   "execution_count": 17,
   "metadata": {},
   "outputs": [
    {
     "data": {
      "text/html": [
       "<div>\n",
       "<style scoped>\n",
       "    .dataframe tbody tr th:only-of-type {\n",
       "        vertical-align: middle;\n",
       "    }\n",
       "\n",
       "    .dataframe tbody tr th {\n",
       "        vertical-align: top;\n",
       "    }\n",
       "\n",
       "    .dataframe thead th {\n",
       "        text-align: right;\n",
       "    }\n",
       "</style>\n",
       "<table border=\"1\" class=\"dataframe\">\n",
       "  <thead>\n",
       "    <tr style=\"text-align: right;\">\n",
       "      <th></th>\n",
       "      <th>firstname</th>\n",
       "      <th>lastname</th>\n",
       "      <th>age</th>\n",
       "      <th>location</th>\n",
       "      <th>occupation</th>\n",
       "    </tr>\n",
       "  </thead>\n",
       "  <tbody>\n",
       "    <tr>\n",
       "      <th>0</th>\n",
       "      <td>Ebuka</td>\n",
       "      <td>Ifechukwu</td>\n",
       "      <td>24</td>\n",
       "      <td>LG</td>\n",
       "      <td>Engineer</td>\n",
       "    </tr>\n",
       "    <tr>\n",
       "      <th>1</th>\n",
       "      <td>Chidera</td>\n",
       "      <td>Ifechukwu</td>\n",
       "      <td>23</td>\n",
       "      <td>UK</td>\n",
       "      <td>Media</td>\n",
       "    </tr>\n",
       "    <tr>\n",
       "      <th>2</th>\n",
       "      <td>Ugonna</td>\n",
       "      <td>Ifechukwu</td>\n",
       "      <td>19</td>\n",
       "      <td>EN</td>\n",
       "      <td>Lawyer</td>\n",
       "    </tr>\n",
       "    <tr>\n",
       "      <th>3</th>\n",
       "      <td>Uchenna</td>\n",
       "      <td>Ifechukwu</td>\n",
       "      <td>19</td>\n",
       "      <td>LG</td>\n",
       "      <td>Designer</td>\n",
       "    </tr>\n",
       "  </tbody>\n",
       "</table>\n",
       "</div>"
      ],
      "text/plain": [
       "  firstname   lastname  age location occupation\n",
       "0     Ebuka  Ifechukwu   24       LG   Engineer\n",
       "1   Chidera  Ifechukwu   23       UK      Media\n",
       "2    Ugonna  Ifechukwu   19       EN     Lawyer\n",
       "3   Uchenna  Ifechukwu   19       LG   Designer"
      ]
     },
     "execution_count": 17,
     "metadata": {},
     "output_type": "execute_result"
    }
   ],
   "source": [
    "#convert the list of tuples to dataframe in pandas for more analysis\n",
    "\n",
    "pd_data = pd.DataFrame(data, columns=['firstname','lastname','age','location','occupation'])\n",
    "\n",
    "pd_data"
   ]
  },
  {
   "cell_type": "code",
   "execution_count": 25,
   "metadata": {},
   "outputs": [],
   "source": [
    "#connecting to a different database to obtain data and put in pandas dataframe for analysis\n",
    "\n",
    "import psycopg2\n",
    "import pandas as pd\n",
    "\n",
    "conn = psycopg2.connect(\n",
    "    host=\"localhost\",\n",
    "    database=\"postgres\",\n",
    "    user=\"postgres\",\n",
    "    password=\"@Ebuka79\")\n",
    "\n",
    "cur = conn.cursor()\n",
    "\n",
    "cur.execute('SELECT version()')\n",
    "\n",
    "retrieve_com = \"\"\"\n",
    "SELECT * \n",
    "FROM product\n",
    "\"\"\"\n",
    "\n",
    "cur.execute(retrieve_com)\n",
    "\n",
    "data = cur.fetchall()\n",
    "\n",
    "pd_data = pd.DataFrame(data, columns=['productkey','productname','price','quantity','categorykey'])\n",
    "\n",
    "cur.close()\n",
    "\n",
    "conn.close()\n"
   ]
  },
  {
   "cell_type": "code",
   "execution_count": 27,
   "metadata": {},
   "outputs": [
    {
     "data": {
      "text/html": [
       "<div>\n",
       "<style scoped>\n",
       "    .dataframe tbody tr th:only-of-type {\n",
       "        vertical-align: middle;\n",
       "    }\n",
       "\n",
       "    .dataframe tbody tr th {\n",
       "        vertical-align: top;\n",
       "    }\n",
       "\n",
       "    .dataframe thead th {\n",
       "        text-align: right;\n",
       "    }\n",
       "</style>\n",
       "<table border=\"1\" class=\"dataframe\">\n",
       "  <thead>\n",
       "    <tr style=\"text-align: right;\">\n",
       "      <th></th>\n",
       "      <th>productkey</th>\n",
       "      <th>productname</th>\n",
       "      <th>price</th>\n",
       "      <th>quantity</th>\n",
       "      <th>categorykey</th>\n",
       "    </tr>\n",
       "  </thead>\n",
       "  <tbody>\n",
       "    <tr>\n",
       "      <th>0</th>\n",
       "      <td>1</td>\n",
       "      <td>Egg</td>\n",
       "      <td>90</td>\n",
       "      <td>1000</td>\n",
       "      <td>1</td>\n",
       "    </tr>\n",
       "    <tr>\n",
       "      <th>1</th>\n",
       "      <td>2</td>\n",
       "      <td>Indomie</td>\n",
       "      <td>100</td>\n",
       "      <td>1000</td>\n",
       "      <td>1</td>\n",
       "    </tr>\n",
       "    <tr>\n",
       "      <th>2</th>\n",
       "      <td>3</td>\n",
       "      <td>Bread</td>\n",
       "      <td>500</td>\n",
       "      <td>500</td>\n",
       "      <td>1</td>\n",
       "    </tr>\n",
       "    <tr>\n",
       "      <th>3</th>\n",
       "      <td>4</td>\n",
       "      <td>Butter</td>\n",
       "      <td>400</td>\n",
       "      <td>1000</td>\n",
       "      <td>1</td>\n",
       "    </tr>\n",
       "    <tr>\n",
       "      <th>4</th>\n",
       "      <td>5</td>\n",
       "      <td>Milk</td>\n",
       "      <td>1400</td>\n",
       "      <td>1000</td>\n",
       "      <td>1</td>\n",
       "    </tr>\n",
       "  </tbody>\n",
       "</table>\n",
       "</div>"
      ],
      "text/plain": [
       "   productkey productname  price  quantity  categorykey\n",
       "0           1         Egg     90      1000            1\n",
       "1           2     Indomie    100      1000            1\n",
       "2           3       Bread    500       500            1\n",
       "3           4      Butter    400      1000            1\n",
       "4           5        Milk   1400      1000            1"
      ]
     },
     "execution_count": 27,
     "metadata": {},
     "output_type": "execute_result"
    }
   ],
   "source": [
    "pd_data.head()"
   ]
  },
  {
   "cell_type": "code",
   "execution_count": 32,
   "metadata": {},
   "outputs": [
    {
     "data": {
      "text/plain": [
       "Index(['productkey', 'productname', 'price', 'quantity', 'categorykey'], dtype='object')"
      ]
     },
     "execution_count": 32,
     "metadata": {},
     "output_type": "execute_result"
    }
   ],
   "source": [
    "pd_data.columns"
   ]
  },
  {
   "cell_type": "code",
   "execution_count": 35,
   "metadata": {},
   "outputs": [
    {
     "data": {
      "text/html": [
       "<div>\n",
       "<style scoped>\n",
       "    .dataframe tbody tr th:only-of-type {\n",
       "        vertical-align: middle;\n",
       "    }\n",
       "\n",
       "    .dataframe tbody tr th {\n",
       "        vertical-align: top;\n",
       "    }\n",
       "\n",
       "    .dataframe thead th {\n",
       "        text-align: right;\n",
       "    }\n",
       "</style>\n",
       "<table border=\"1\" class=\"dataframe\">\n",
       "  <thead>\n",
       "    <tr style=\"text-align: right;\">\n",
       "      <th></th>\n",
       "      <th>count</th>\n",
       "      <th>mean</th>\n",
       "      <th>std</th>\n",
       "      <th>min</th>\n",
       "      <th>25%</th>\n",
       "      <th>50%</th>\n",
       "      <th>75%</th>\n",
       "      <th>max</th>\n",
       "    </tr>\n",
       "    <tr>\n",
       "      <th>categorykey</th>\n",
       "      <th></th>\n",
       "      <th></th>\n",
       "      <th></th>\n",
       "      <th></th>\n",
       "      <th></th>\n",
       "      <th></th>\n",
       "      <th></th>\n",
       "      <th></th>\n",
       "    </tr>\n",
       "  </thead>\n",
       "  <tbody>\n",
       "    <tr>\n",
       "      <th>1</th>\n",
       "      <td>10.0</td>\n",
       "      <td>5.5</td>\n",
       "      <td>3.027650</td>\n",
       "      <td>1.0</td>\n",
       "      <td>3.25</td>\n",
       "      <td>5.5</td>\n",
       "      <td>7.75</td>\n",
       "      <td>10.0</td>\n",
       "    </tr>\n",
       "    <tr>\n",
       "      <th>2</th>\n",
       "      <td>8.0</td>\n",
       "      <td>14.5</td>\n",
       "      <td>2.449490</td>\n",
       "      <td>11.0</td>\n",
       "      <td>12.75</td>\n",
       "      <td>14.5</td>\n",
       "      <td>16.25</td>\n",
       "      <td>18.0</td>\n",
       "    </tr>\n",
       "    <tr>\n",
       "      <th>3</th>\n",
       "      <td>7.0</td>\n",
       "      <td>22.0</td>\n",
       "      <td>2.160247</td>\n",
       "      <td>19.0</td>\n",
       "      <td>20.50</td>\n",
       "      <td>22.0</td>\n",
       "      <td>23.50</td>\n",
       "      <td>25.0</td>\n",
       "    </tr>\n",
       "  </tbody>\n",
       "</table>\n",
       "</div>"
      ],
      "text/plain": [
       "             count  mean       std   min    25%   50%    75%   max\n",
       "categorykey                                                       \n",
       "1             10.0   5.5  3.027650   1.0   3.25   5.5   7.75  10.0\n",
       "2              8.0  14.5  2.449490  11.0  12.75  14.5  16.25  18.0\n",
       "3              7.0  22.0  2.160247  19.0  20.50  22.0  23.50  25.0"
      ]
     },
     "execution_count": 35,
     "metadata": {},
     "output_type": "execute_result"
    }
   ],
   "source": [
    "pd_data.groupby('categorykey')['productkey'].describe()"
   ]
  },
  {
   "cell_type": "code",
   "execution_count": null,
   "metadata": {},
   "outputs": [],
   "source": []
  }
 ],
 "metadata": {
  "kernelspec": {
   "display_name": "Python 3.9.12 ('base')",
   "language": "python",
   "name": "python3"
  },
  "language_info": {
   "codemirror_mode": {
    "name": "ipython",
    "version": 3
   },
   "file_extension": ".py",
   "mimetype": "text/x-python",
   "name": "python",
   "nbconvert_exporter": "python",
   "pygments_lexer": "ipython3",
   "version": "3.9.12"
  },
  "orig_nbformat": 4,
  "vscode": {
   "interpreter": {
    "hash": "53b9acdd54ac879a551304c815d5656c3a1d5d5cc610a256e6098324c699f771"
   }
  }
 },
 "nbformat": 4,
 "nbformat_minor": 2
}
